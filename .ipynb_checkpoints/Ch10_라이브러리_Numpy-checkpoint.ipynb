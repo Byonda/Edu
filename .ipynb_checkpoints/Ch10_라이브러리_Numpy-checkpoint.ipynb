{
 "cells": [
  {
   "cell_type": "markdown",
   "metadata": {},
   "source": [
    "# Numpy\n",
    "* **Num**erical **Py**thon의 약자\n",
    "* 파이썬으로 머신러닝을 한다면 필수적인 라이브러리\n",
    "* 수치데이터를 다루는데 효율적이고 높은 성능을 제공함\n",
    "* 스칼라 연산과 비슷한 속도로 연산을 수행함\n",
    "* 배열을 요소별로 조작하지 않아도 요소별 연산(Element-wise operation)이 가능 - 브로드캐스팅(Broadcasting)\n",
    "* ndarray type (n - dimensional array object, 다차원 배열 객체)\n",
    "* 모든 요소가 동일한 datatype"
   ]
  },
  {
   "cell_type": "markdown",
   "metadata": {},
   "source": [
    "## 1. Numpy 임포트 array 만들기"
   ]
  },
  {
   "cell_type": "code",
   "execution_count": 1,
   "metadata": {},
   "outputs": [
    {
     "data": {
      "text/plain": [
       "'1.17.3'"
      ]
     },
     "execution_count": 1,
     "metadata": {},
     "output_type": "execute_result"
    }
   ],
   "source": [
    "import numpy as np\n",
    "np.__version__"
   ]
  },
  {
   "cell_type": "code",
   "execution_count": 2,
   "metadata": {},
   "outputs": [
    {
     "name": "stdout",
     "output_type": "stream",
     "text": [
      "<class 'list'>\n",
      "<class 'numpy.ndarray'>\n"
     ]
    }
   ],
   "source": [
    "ar = [1, 2, 3, 4, 5, 6, 7, 8, 9, 10]\n",
    "print(type(ar))\n",
    "ar = np.array(ar)\n",
    "print(type(ar))"
   ]
  },
  {
   "cell_type": "code",
   "execution_count": 3,
   "metadata": {},
   "outputs": [
    {
     "name": "stdout",
     "output_type": "stream",
     "text": [
      "dim : 1\n",
      "shape : (10,)\n",
      "size : 10\n",
      "dtype : int64\n"
     ]
    }
   ],
   "source": [
    "# ndarray는 python list가 하지 못하는 많은 일을 할 수 있다.\n",
    "print(\"dim :\", ar.ndim)\n",
    "print(\"shape :\", ar.shape)\n",
    "print(\"size :\",  ar.size)\n",
    "print(\"dtype :\", ar.dtype)"
   ]
  },
  {
   "cell_type": "markdown",
   "metadata": {},
   "source": [
    "## 2. Numpy의 다양한 Random 기능"
   ]
  },
  {
   "cell_type": "code",
   "execution_count": 4,
   "metadata": {},
   "outputs": [
    {
     "name": "stdout",
     "output_type": "stream",
     "text": [
      "[10  9  8  7  6  5  4  3  2  1] \n",
      "\n",
      "dim : 1\n",
      "shape : (10,)\n",
      "size : 10\n",
      "dtype : int64\n"
     ]
    }
   ],
   "source": [
    "# Python의 range와 동일\n",
    "# 단, Type은 ndarray\n",
    "\n",
    "# ar = np.arange(10)\n",
    "# ar = np.arange(5, 10)\n",
    "# ar = np.arange(0, 10, 2)\n",
    "ar = np.arange(10, 0, -1)\n",
    "\n",
    "print(ar, \"\\n\")\n",
    "print(\"dim :\", ar.ndim)\n",
    "print(\"shape :\", ar.shape)\n",
    "print(\"size :\",  ar.size)\n",
    "print(\"dtype :\", ar.dtype)"
   ]
  },
  {
   "cell_type": "code",
   "execution_count": 5,
   "metadata": {},
   "outputs": [
    {
     "name": "stdout",
     "output_type": "stream",
     "text": [
      "[[1 1 9]\n",
      " [2 6 8]\n",
      " [3 4 6]] \n",
      "\n",
      "dim : 2\n",
      "shape : (3, 3)\n",
      "size : 9\n",
      "dtype : int64\n"
     ]
    }
   ],
   "source": [
    "# ar = np.random.random(10) # 0 ~ 1 사이의 실수를 가져옴\n",
    "# ar = np.random.random((3, 3)) # 2차원으로도 값 생성 가능\n",
    "ar = np.random.randint(0, 10, size=(3, 3)) # 임의의 값으로 채워진 배열 생성\n",
    "\n",
    "print(ar, \"\\n\")\n",
    "print(\"dim :\", ar.ndim)\n",
    "print(\"shape :\", ar.shape)\n",
    "print(\"size :\",  ar.size)\n",
    "print(\"dtype :\", ar.dtype)"
   ]
  },
  {
   "cell_type": "code",
   "execution_count": 6,
   "metadata": {},
   "outputs": [
    {
     "name": "stdout",
     "output_type": "stream",
     "text": [
      "[[[ 0.88594121  0.3874168  -0.31290483  0.75722802  0.03846106]\n",
      "  [-0.17404329 -2.14358954 -0.44474824 -0.25373372 -1.33132109]\n",
      "  [-0.01567786  0.24678396 -0.27508033 -0.3428848   0.77883556]\n",
      "  [-1.83065082 -0.4025892   0.24515356 -1.8679044   0.78356316]]\n",
      "\n",
      " [[ 0.42248797  1.3502016  -2.51069549  1.76230274  2.60489623]\n",
      "  [-0.68956708  0.69657845 -0.5367728   0.17530713 -0.19246444]\n",
      "  [ 0.20516304 -0.06418813  1.46849697  1.612538    0.26224609]\n",
      "  [-0.66898516 -0.72607246 -2.34802648 -0.47027466 -0.13860887]]\n",
      "\n",
      " [[-0.25021784 -1.79338972  1.3121783  -0.54535857 -0.99171413]\n",
      "  [ 0.99520565  0.64708111  0.19876588 -0.8641335  -0.02876969]\n",
      "  [ 0.49515631 -2.07557176 -0.89045804  1.26532455 -0.96746618]\n",
      "  [ 0.10275746  0.73623004  0.36343545 -0.41776001 -1.4468067 ]]] \n",
      "\n",
      "dim : 3\n",
      "shape : (3, 4, 5)\n",
      "size : 60\n",
      "dtype : float64\n"
     ]
    }
   ],
   "source": [
    "# ar = np.random.randn(10)\n",
    "# ar = np.random.randn(3, 4)\n",
    "ar = np.random.randn(3, 4, 5)\n",
    "\n",
    "print(ar, \"\\n\")\n",
    "print(\"dim :\", ar.ndim)\n",
    "print(\"shape :\", ar.shape)\n",
    "print(\"size :\",  ar.size)\n",
    "print(\"dtype :\", ar.dtype)"
   ]
  },
  {
   "cell_type": "code",
   "execution_count": 7,
   "metadata": {},
   "outputs": [
    {
     "name": "stdout",
     "output_type": "stream",
     "text": [
      "[[[5 3 7 8 6]\n",
      "  [6 7 3 8 1]\n",
      "  [5 5 6 5 2]\n",
      "  [1 1 7 3 0]]\n",
      "\n",
      " [[7 3 1 7 3]\n",
      "  [9 7 2 8 5]\n",
      "  [0 5 6 4 9]\n",
      "  [1 2 6 0 0]]\n",
      "\n",
      " [[0 0 9 9 4]\n",
      "  [3 4 1 9 1]\n",
      "  [4 7 8 5 6]\n",
      "  [2 9 0 1 6]]] \n",
      "\n",
      "dim : 3\n",
      "shape : (3, 4, 5)\n",
      "size : 60\n",
      "dtype : int64\n"
     ]
    }
   ],
   "source": [
    "# ar = np.random.randint(10, size = 6)\n",
    "# ar = np.random.randint(10, size=(3, 4))\n",
    "ar = np.random.randint(10, size=(3, 4, 5))\n",
    "\n",
    "print(ar, \"\\n\")\n",
    "print(\"dim :\", ar.ndim)\n",
    "print(\"shape :\", ar.shape)\n",
    "print(\"size :\",  ar.size)\n",
    "print(\"dtype :\", ar.dtype)"
   ]
  },
  {
   "cell_type": "markdown",
   "metadata": {},
   "source": [
    "- Numpy 배열은 고정타입\n",
    "- 파이썬 리스트와는 달리 Numpy 배열은 고정 타입을 가진다.\n",
    "- 따라서 아래의 값은 소수점 이하의 값들이 잘릴 것이다."
   ]
  },
  {
   "cell_type": "code",
   "execution_count": 8,
   "metadata": {},
   "outputs": [
    {
     "data": {
      "text/plain": [
       "array([3, 1, 8, 0, 7, 6])"
      ]
     },
     "execution_count": 8,
     "metadata": {},
     "output_type": "execute_result"
    }
   ],
   "source": [
    "ar = np.random.randint(10, size = 6)\n",
    "ar[0] = 3.14159\n",
    "ar"
   ]
  },
  {
   "cell_type": "code",
   "execution_count": 9,
   "metadata": {},
   "outputs": [
    {
     "data": {
      "text/plain": [
       "array([3.14159, 1.     , 8.     , 0.     , 7.     , 6.     ])"
      ]
     },
     "execution_count": 9,
     "metadata": {},
     "output_type": "execute_result"
    }
   ],
   "source": [
    "# 다음과 같이 데이터 타입을 바꿀 수 있다.\n",
    "ar = ar.astype(np.float)\n",
    "ar[0] = 3.14159\n",
    "ar"
   ]
  },
  {
   "cell_type": "markdown",
   "metadata": {},
   "source": [
    "## 3. Dim과 Shape\n",
    " - array의 shape을 바꿔주는 메소드"
   ]
  },
  {
   "cell_type": "code",
   "execution_count": 10,
   "metadata": {},
   "outputs": [
    {
     "name": "stdout",
     "output_type": "stream",
     "text": [
      "[[1 2 3]\n",
      " [4 5 6]\n",
      " [7 8 9]] \n",
      "\n",
      "dim : 2\n",
      "shape : (3, 3)\n",
      "size : 9\n",
      "dtype : int64\n"
     ]
    }
   ],
   "source": [
    "ar = np.arange(1, 10)\n",
    "ar = ar.reshape(3, 3)\n",
    "\n",
    "print(ar, \"\\n\")\n",
    "print(\"dim :\", ar.ndim)\n",
    "print(\"shape :\", ar.shape)\n",
    "print(\"size :\",  ar.size)\n",
    "print(\"dtype :\", ar.dtype)"
   ]
  },
  {
   "cell_type": "code",
   "execution_count": 11,
   "metadata": {},
   "outputs": [
    {
     "name": "stdout",
     "output_type": "stream",
     "text": [
      "[1 2 3]\n",
      "dim : 1 \n",
      "\n",
      "[[1 2 3]]\n",
      "dim : 2 \n",
      "\n",
      "[[1]\n",
      " [2]\n",
      " [3]]\n",
      "dim : 2 \n",
      "\n",
      "[[1 2 3]]\n",
      "dim : 2 \n",
      "\n"
     ]
    }
   ],
   "source": [
    "ar = np.array([1, 2, 3])\n",
    "print(ar)\n",
    "print(\"dim :\", ar.ndim, \"\\n\")\n",
    "\n",
    "print(ar.reshape(1,3)) # reshape을 이용한 행 벡터\n",
    "print(\"dim :\", ar.reshape(1,3).ndim, \"\\n\")\n",
    "\n",
    "print(ar.reshape(3,1)) # reshape을 이용한 열 벡터\n",
    "print(\"dim :\", ar.reshape(3,1).ndim, \"\\n\")\n",
    "\n",
    "print(ar.reshape(3,1).T) # Transepose를 이용한 행벡터\n",
    "print(\"dim :\", ar.reshape(3,1).T.ndim, \"\\n\")\n",
    "\n",
    "ar = np.array([1, 2, 3])"
   ]
  },
  {
   "cell_type": "markdown",
   "metadata": {},
   "source": [
    "- 전치(Transpose)"
   ]
  },
  {
   "cell_type": "code",
   "execution_count": 12,
   "metadata": {},
   "outputs": [
    {
     "name": "stdout",
     "output_type": "stream",
     "text": [
      "[[ 0  1  2  3]\n",
      " [ 4  5  6  7]\n",
      " [ 8  9 10 11]] \n",
      "\n",
      "dim : 2\n",
      "shape : (3, 4)\n",
      "size : 12\n",
      "dtype : int64\n",
      "\n",
      "[[ 0  4  8]\n",
      " [ 1  5  9]\n",
      " [ 2  6 10]\n",
      " [ 3  7 11]] \n",
      "\n",
      "dim : 2\n",
      "shape : (4, 3)\n",
      "size : 12\n",
      "dtype : int64\n"
     ]
    }
   ],
   "source": [
    "ar = np.arange(12).reshape(3, 4)\n",
    "\n",
    "print(ar, \"\\n\")\n",
    "print(\"dim :\", ar.ndim)\n",
    "print(\"shape :\", ar.shape)\n",
    "print(\"size :\",  ar.size)\n",
    "print(\"dtype :\", ar.dtype)\n",
    "print(\"\")\n",
    "\n",
    "ar = ar.T\n",
    "\n",
    "print(ar, \"\\n\")\n",
    "print(\"dim :\", ar.ndim)\n",
    "print(\"shape :\", ar.shape)\n",
    "print(\"size :\",  ar.size)\n",
    "print(\"dtype :\", ar.dtype)"
   ]
  },
  {
   "cell_type": "markdown",
   "metadata": {},
   "source": [
    "## 4. Slicing\n",
    "* 특정 영역을 지정하거나 잘래냄\n",
    "* Numpy배열은 다차원인 경우가 많으므로 각 차원별로 어떻게 슬라이싱 할 지 명확히 해야함\n",
    "\n",
    "<img src=\"./img/slicing.png\" width=\"700\" height=\"500\" align=\"left\"/>"
   ]
  },
  {
   "cell_type": "code",
   "execution_count": 13,
   "metadata": {},
   "outputs": [
    {
     "name": "stdout",
     "output_type": "stream",
     "text": [
      "[[0 1 2]\n",
      " [3 4 5]\n",
      " [6 7 8]]\n",
      "\n",
      "[[1 2]\n",
      " [4 5]]\n",
      "\n",
      "[6 7 8]\n",
      "[6 7 8]\n",
      "[[6 7 8]]\n",
      "\n",
      "[[0 1]\n",
      " [3 4]\n",
      " [6 7]]\n",
      "\n",
      "[3 4]\n",
      "[[3 4]]\n"
     ]
    }
   ],
   "source": [
    "ar = np.array(np.arange(9)).reshape(3, 3)\n",
    "print(ar)\n",
    "print(\"\")\n",
    "\n",
    "print(ar[:2, 1:])\n",
    "print(\"\")\n",
    "\n",
    "print(ar[2])\n",
    "print(ar[2, :])\n",
    "print(ar[2:, :]) # 이것은 차원이 다르다.\n",
    "print(\"\")\n",
    "\n",
    "print(ar[:, :2])\n",
    "print(\"\")\n",
    "\n",
    "print(ar[1, :2])\n",
    "print(ar[1:2, :2])"
   ]
  },
  {
   "cell_type": "markdown",
   "metadata": {},
   "source": [
    "- 추가적인 문제를 해결해보자"
   ]
  },
  {
   "cell_type": "markdown",
   "metadata": {},
   "source": [
    "<img src=\"./img/slicing2.png\" width=\"500\" height=\"500\" align=\"left\"/>"
   ]
  },
  {
   "cell_type": "code",
   "execution_count": 14,
   "metadata": {},
   "outputs": [],
   "source": [
    "ar = np.arange(60).reshape(6, 10)\n",
    "ar = ar[:, 0:6]"
   ]
  },
  {
   "cell_type": "code",
   "execution_count": 15,
   "metadata": {},
   "outputs": [
    {
     "name": "stdout",
     "output_type": "stream",
     "text": [
      "[[ 0  1  2  3  4  5]\n",
      " [10 11 12 13 14 15]\n",
      " [20 21 22 23 24 25]\n",
      " [30 31 32 33 34 35]\n",
      " [40 41 42 43 44 45]\n",
      " [50 51 52 53 54 55]]\n",
      "\n",
      "[1 2]\n",
      "\n",
      "[ 3 13 23 33 43 53]\n",
      "\n",
      "[[44 45]\n",
      " [54 55]]\n",
      "\n",
      "[[20 22 24]\n",
      " [40 42 44]]\n"
     ]
    }
   ],
   "source": [
    "print(ar)\n",
    "print(\"\")\n",
    "\n",
    "# Orange ...\n",
    "print(ar[0, 1:3])\n",
    "print(\"\")\n",
    "\n",
    "# Red ...\n",
    "print(ar[:, 3])\n",
    "print(\"\")\n",
    "\n",
    "# Blue ...\n",
    "print(ar[4:, 4:])\n",
    "print(\"\")\n",
    "\n",
    "# Green ...\n",
    "print(ar[2::2, ::2])"
   ]
  },
  {
   "cell_type": "markdown",
   "metadata": {},
   "source": [
    "- 행과 열 가져오기"
   ]
  },
  {
   "cell_type": "code",
   "execution_count": 16,
   "metadata": {},
   "outputs": [
    {
     "name": "stdout",
     "output_type": "stream",
     "text": [
      "[[ 0  1  2  3  4  5]\n",
      " [10 11 12 13 14 15]\n",
      " [20 21 22 23 24 25]\n",
      " [30 31 32 33 34 35]\n",
      " [40 41 42 43 44 45]\n",
      " [50 51 52 53 54 55]]\n",
      "\n",
      "Shape : (6, 6)\n",
      "DIms : 2\n"
     ]
    }
   ],
   "source": [
    "print(ar)\n",
    "print(\"\")\n",
    "\n",
    "print(\"Shape :\", ar.shape)\n",
    "print(\"DIms :\", ar.ndim)"
   ]
  },
  {
   "cell_type": "code",
   "execution_count": 17,
   "metadata": {},
   "outputs": [
    {
     "name": "stdout",
     "output_type": "stream",
     "text": [
      "[10 11 12 13 14 15]\n",
      "Shape : (6,)\n",
      "DIms : 1\n"
     ]
    }
   ],
   "source": [
    "print(ar[1, :])\n",
    "print(\"Shape :\", ar[1, :].shape)\n",
    "print(\"DIms :\", ar[1, :].ndim)"
   ]
  },
  {
   "cell_type": "code",
   "execution_count": 18,
   "metadata": {},
   "outputs": [
    {
     "name": "stdout",
     "output_type": "stream",
     "text": [
      "[[10 11 12 13 14 15]]\n",
      "Shape : (1, 6)\n",
      "DIms : 2\n"
     ]
    }
   ],
   "source": [
    "print(ar[[1], :])\n",
    "print(\"Shape :\", ar[[1], :].shape)\n",
    "print(\"DIms :\", ar[[1], :].ndim)"
   ]
  },
  {
   "cell_type": "code",
   "execution_count": 19,
   "metadata": {},
   "outputs": [
    {
     "name": "stdout",
     "output_type": "stream",
     "text": [
      "[ 1 11 21 31 41 51]\n",
      "shape : (6,)\n",
      "dim : 1\n"
     ]
    }
   ],
   "source": [
    "# Column slicing도 마찬가지\n",
    "print(ar[:, 1])\n",
    "print('shape :', ar[:, 1].shape)\n",
    "print('dim :', ar[:, 1].ndim)"
   ]
  },
  {
   "cell_type": "code",
   "execution_count": 20,
   "metadata": {},
   "outputs": [
    {
     "name": "stdout",
     "output_type": "stream",
     "text": [
      "[[ 1]\n",
      " [11]\n",
      " [21]\n",
      " [31]\n",
      " [41]\n",
      " [51]]\n",
      "shape : (6, 1)\n",
      "dim : 2\n"
     ]
    }
   ],
   "source": [
    "# Column slicing도 마찬가지\n",
    "print(ar[:, [1]])\n",
    "print('shape :', ar[:, [1]].shape)\n",
    "print('dim :', ar[:, [1]].ndim)"
   ]
  },
  {
   "cell_type": "markdown",
   "metadata": {},
   "source": [
    "## 5. 배열 인덱싱"
   ]
  },
  {
   "cell_type": "code",
   "execution_count": 21,
   "metadata": {},
   "outputs": [
    {
     "name": "stdout",
     "output_type": "stream",
     "text": [
      "[[ 0  1  2  3  4  5  6]\n",
      " [ 7  8  9 10 11 12 13]\n",
      " [14 15 16 17 18 19 20]\n",
      " [21 22 23 24 25 26 27]\n",
      " [28 29 30 31 32 33 34]\n",
      " [35 36 37 38 39 40 41]] \n",
      "\n",
      "24\n",
      "24\n"
     ]
    }
   ],
   "source": [
    "ar = np.arange(42).reshape(6, 7)\n",
    "print(ar, \"\\n\")\n",
    "print(ar[3, 3])\n",
    "print(ar[3][3])"
   ]
  },
  {
   "cell_type": "code",
   "execution_count": 22,
   "metadata": {},
   "outputs": [
    {
     "data": {
      "text/plain": [
       "array([[     0,      1,      2,      3,      4,      5,      6],\n",
       "       [     7,      8,      9,     10,     11,     12,     13],\n",
       "       [    14,     15,     16, 999999,     18,     19,     20],\n",
       "       [    21,     22,     23,     24,     25,     26,     27],\n",
       "       [    28,     29,     30,     31,     32,     33,     34],\n",
       "       [    35,     36,     37,     38,     39,     40,     41]])"
      ]
     },
     "execution_count": 22,
     "metadata": {},
     "output_type": "execute_result"
    }
   ],
   "source": [
    "ar[2, 3] = 999999\n",
    "ar"
   ]
  },
  {
   "cell_type": "markdown",
   "metadata": {},
   "source": [
    "- list를 이용한 Indexing"
   ]
  },
  {
   "cell_type": "code",
   "execution_count": 23,
   "metadata": {},
   "outputs": [
    {
     "name": "stdout",
     "output_type": "stream",
     "text": [
      "[[999999      1 999999      3      4      5      6]\n",
      " [     7 999999      9     10     11     12     13]\n",
      " [999999     15     16 999999     18     19     20]\n",
      " [    21     22     23     24     25     26     27]\n",
      " [    28     29     30     31     32     33     34]\n",
      " [    35     36     37     38     39     40     41]] \n",
      "\n",
      "999999 999999 999999 999999\n"
     ]
    }
   ],
   "source": [
    "row = np.array([0, 1, 2, 0])\n",
    "col = np.array([0, 1, 0, 2])\n",
    "\n",
    "ar[row, col] = 999999\n",
    "\n",
    "print(ar, \"\\n\")\n",
    "print(ar[0, 0], ar[1, 1], ar[2, 0], ar[0, 2])"
   ]
  },
  {
   "cell_type": "markdown",
   "metadata": {},
   "source": [
    "- 단순 연산자는 Call by reference 이다.\n",
    "- Slicing 접근은 Call by reference 이다.\n",
    "- 원본이 바뀌어 버린다."
   ]
  },
  {
   "cell_type": "code",
   "execution_count": 24,
   "metadata": {},
   "outputs": [
    {
     "name": "stdout",
     "output_type": "stream",
     "text": [
      "[[444444      1 999999      3      4      5      6]\n",
      " [     7 999999      9     10     11     12     13]\n",
      " [999999     15     16 999999     18     19     20]\n",
      " [    21     22     23     24     25     26     27]\n",
      " [    28     29     30     31     32     33     34]\n",
      " [    35     36     37     38     39     40     41]]\n"
     ]
    }
   ],
   "source": [
    "ar_v = ar\n",
    "\n",
    "ar_v[0, 0] = 444444\n",
    "print(ar)"
   ]
  },
  {
   "cell_type": "code",
   "execution_count": 25,
   "metadata": {},
   "outputs": [
    {
     "name": "stdout",
     "output_type": "stream",
     "text": [
      "[[888888 888888 888888 888888      4      5      6]\n",
      " [888888 888888 888888 888888     11     12     13]\n",
      " [888888 888888 888888 888888     18     19     20]\n",
      " [    21     22     23     24     25     26     27]\n",
      " [    28     29     30     31     32     33     34]\n",
      " [    35     36     37     38     39     40     41]]\n"
     ]
    }
   ],
   "source": [
    "# Slicingd으로의 직접 접근은 Call by reference\n",
    "# 인덱싱 & 슬라이싱된 배열을 수정하면 원본 배열 역시 수정됨\n",
    "ar[0:3, 0:4] = 888888\n",
    "print(ar)"
   ]
  },
  {
   "cell_type": "markdown",
   "metadata": {},
   "source": [
    "- Slicing한 배열을 연산자에 담으면 Call by value 이다.\n",
    "- 동일한 배열을 만들고 싶으면 Copy를 써야 한다."
   ]
  },
  {
   "cell_type": "code",
   "execution_count": 26,
   "metadata": {},
   "outputs": [
    {
     "name": "stdout",
     "output_type": "stream",
     "text": [
      "[[888888 888888 888888 888888      4      5      6]\n",
      " [888888 888888 888888 888888     11     12     13]\n",
      " [888888 888888 888888 888888     18     19     20]\n",
      " [    21     22     23     24     25     26     27]\n",
      " [    28     29     30     31     32     33     34]\n",
      " [    35     36     37     38     39     40     41]]\n"
     ]
    }
   ],
   "source": [
    "ar_cp = ar.copy()\n",
    "ar_cp[0, 0] = 777777\n",
    "print(ar)"
   ]
  },
  {
   "cell_type": "code",
   "execution_count": 27,
   "metadata": {},
   "outputs": [
    {
     "data": {
      "text/plain": [
       "array([[888888, 888888, 888888, 888888,      4,      5,      6],\n",
       "       [888888, 888888, 888888, 888888,     11,     12,     13],\n",
       "       [888888, 888888, 888888, 888888,     18,     19,     20],\n",
       "       [    21,     22,     23,     24,     25,     26,     27],\n",
       "       [    28,     29,     30,     31,     32,     33,     34],\n",
       "       [    35,     36,     37,     38,     39,     40,     41]])"
      ]
     },
     "execution_count": 27,
     "metadata": {},
     "output_type": "execute_result"
    }
   ],
   "source": [
    "# Slicing한 배열을 연산자에 담으면 Call by value 이다.\n",
    "# 원본이 안 바뀐다.\n",
    "ar_v = ar[2:3, 3:4]\n",
    "ar_v = 777777\n",
    "ar"
   ]
  },
  {
   "cell_type": "markdown",
   "metadata": {},
   "source": [
    "## 6. Boolean Indexing (Masking)"
   ]
  },
  {
   "cell_type": "markdown",
   "metadata": {},
   "source": [
    "- 다음 ar에서 9인 원소의 값을 999로 바꾸도록 하여라."
   ]
  },
  {
   "cell_type": "code",
   "execution_count": 28,
   "metadata": {},
   "outputs": [
    {
     "name": "stdout",
     "output_type": "stream",
     "text": [
      "[[6 1 4 4 8 4 6 3]\n",
      " [5 8 7 9 9 2 7 8]\n",
      " [8 9 2 6 9 5 4 1]\n",
      " [4 6 1 3 4 9 2 4]\n",
      " [4 4 8 1 2 1 5 8]]\n"
     ]
    }
   ],
   "source": [
    "np.random.seed(0)\n",
    "ar = np.random.randint(1, 10, size=(5, 8))\n",
    "print(ar)"
   ]
  },
  {
   "cell_type": "code",
   "execution_count": 29,
   "metadata": {},
   "outputs": [
    {
     "name": "stdout",
     "output_type": "stream",
     "text": [
      "[[  6   1   4   4   8   4   6   3]\n",
      " [  5   8   7 999 999   2   7   8]\n",
      " [  8 999   2   6 999   5   4   1]\n",
      " [  4   6   1   3   4 999   2   4]\n",
      " [  4   4   8   1   2   1   5   8]]\n"
     ]
    }
   ],
   "source": [
    "row = ar.shape[0]\n",
    "col = ar.shape[1]\n",
    "\n",
    "# Python의 기본적인 문법을 이용한 방법\n",
    "for i in range(row) :\n",
    "    for j in range(col) :\n",
    "        if ar[i][j] == 9 :\n",
    "            ar[i][j] = 999\n",
    "            \n",
    "print(ar)            "
   ]
  },
  {
   "cell_type": "code",
   "execution_count": 30,
   "metadata": {},
   "outputs": [
    {
     "name": "stdout",
     "output_type": "stream",
     "text": [
      "[[6 1 4 4 8 4 6 3]\n",
      " [5 8 7 9 9 2 7 8]\n",
      " [8 9 2 6 9 5 4 1]\n",
      " [4 6 1 3 4 9 2 4]\n",
      " [4 4 8 1 2 1 5 8]]\n"
     ]
    }
   ],
   "source": [
    "np.random.seed(0)\n",
    "ar = np.random.randint(1, 10, size=(5, 8))\n",
    "print(ar)"
   ]
  },
  {
   "cell_type": "code",
   "execution_count": 31,
   "metadata": {},
   "outputs": [
    {
     "data": {
      "text/plain": [
       "array([[False, False, False, False, False, False, False, False],\n",
       "       [False, False, False,  True,  True, False, False, False],\n",
       "       [False,  True, False, False,  True, False, False, False],\n",
       "       [False, False, False, False, False,  True, False, False],\n",
       "       [False, False, False, False, False, False, False, False]])"
      ]
     },
     "execution_count": 31,
     "metadata": {},
     "output_type": "execute_result"
    }
   ],
   "source": [
    "ar == 9"
   ]
  },
  {
   "cell_type": "code",
   "execution_count": 32,
   "metadata": {},
   "outputs": [
    {
     "name": "stdout",
     "output_type": "stream",
     "text": [
      "[[  6   1   4   4   8   4   6   3]\n",
      " [  5   8   7 999 999   2   7   8]\n",
      " [  8 999   2   6 999   5   4   1]\n",
      " [  4   6   1   3   4 999   2   4]\n",
      " [  4   4   8   1   2   1   5   8]]\n"
     ]
    }
   ],
   "source": [
    "ar[ar == 9] = 999\n",
    "print(ar)"
   ]
  },
  {
   "cell_type": "markdown",
   "metadata": {},
   "source": [
    "- 요소별로 논리 연산이 가능\n",
    "- 논리 연산결과에 따라 요소별로 True, False 결과를 반환"
   ]
  },
  {
   "cell_type": "code",
   "execution_count": 33,
   "metadata": {},
   "outputs": [
    {
     "name": "stdout",
     "output_type": "stream",
     "text": [
      "[[  6   1   4   4   8   4   6   3]\n",
      " [  5   8   7 999 999   2   7   8]\n",
      " [  8 999   2   6 999   5   4   1]\n",
      " [  4   6   1   3   4 999   2   4]\n",
      " [  4   4   8   1   2   1   5   8]] \n",
      "\n",
      "[[ True False  True  True  True  True  True False]\n",
      " [False  True False False False  True False  True]\n",
      " [ True False  True  True False False  True False]\n",
      " [ True  True False False  True False  True  True]\n",
      " [ True  True  True False  True False False  True]] \n",
      "\n",
      "[6 4 4 8 4 6 8 2 8 8 2 6 4 4 6 4 2 4 4 4 8 2 8]\n"
     ]
    }
   ],
   "source": [
    "print(ar, \"\\n\")\n",
    "print(ar % 2 == 0, \"\\n\")\n",
    "print(ar[ ar % 2 == 0 ])"
   ]
  },
  {
   "cell_type": "code",
   "execution_count": 34,
   "metadata": {},
   "outputs": [
    {
     "name": "stdout",
     "output_type": "stream",
     "text": [
      "[[1 2]\n",
      " [4 5]] \n",
      "\n",
      "[[2 1]\n",
      " [3 7]] \n",
      "\n",
      "[[2 2]\n",
      " [4 7]]\n"
     ]
    }
   ],
   "source": [
    "# 두 Matrix를 비교해서 큰 원소만을 반환\n",
    "a = np.array([[1, 2], [4, 5]])\n",
    "b = np.array([[2, 1], [3, 7]])\n",
    "print(a, \"\\n\")\n",
    "print(b, \"\\n\")\n",
    "print(np.maximum(a, b))"
   ]
  },
  {
   "cell_type": "markdown",
   "metadata": {},
   "source": [
    "## 7. Numpy 연산\n",
    "* 벡터 및 행렬연산\n",
    "* 기본적인 연산은 배열의 각 요소별로 동작하거나 Numpy내장 함수를 통해 동작함\n",
    "* 브로드캐스팅(Broadcasting)"
   ]
  },
  {
   "cell_type": "code",
   "execution_count": 35,
   "metadata": {},
   "outputs": [
    {
     "name": "stdout",
     "output_type": "stream",
     "text": [
      "[4 3 8 3 1 1 5 6 6]\n"
     ]
    }
   ],
   "source": [
    "ar = np.random.randint(1, 10, size=9)\n",
    "print(ar)"
   ]
  },
  {
   "cell_type": "code",
   "execution_count": 36,
   "metadata": {},
   "outputs": [
    {
     "name": "stdout",
     "output_type": "stream",
     "text": [
      "[0.25, 0.3333333333333333, 0.125, 0.3333333333333333, 1.0, 1.0, 0.2, 0.16666666666666666, 0.16666666666666666]\n"
     ]
    }
   ],
   "source": [
    "# Python의 기본 기능으로 역수를 구해보자.\n",
    "reciprocals = []\n",
    "\n",
    "for num in ar :\n",
    "    reciprocals.append(1.0 / num)\n",
    "    \n",
    "print(reciprocals)"
   ]
  },
  {
   "cell_type": "code",
   "execution_count": 37,
   "metadata": {},
   "outputs": [
    {
     "name": "stdout",
     "output_type": "stream",
     "text": [
      "[0.25       0.33333333 0.125      0.33333333 1.         1.\n",
      " 0.2        0.16666667 0.16666667]\n"
     ]
    }
   ],
   "source": [
    "# Numpy로는 아래와 같이 간단하게 처리가 가능하다.\n",
    "reciprocals = 1.0 / ar\n",
    "print(reciprocals)"
   ]
  },
  {
   "cell_type": "code",
   "execution_count": 38,
   "metadata": {},
   "outputs": [
    {
     "name": "stdout",
     "output_type": "stream",
     "text": [
      "[[10 10  9  8]\n",
      " [10 14  9  7]\n",
      " [13  8 12 13]] \n",
      "\n",
      "[[ 4  8  1 -4]\n",
      " [ 0  4 -5 -3]\n",
      " [ 3  0  2  3]] \n",
      "\n",
      "[[21  9 20 12]\n",
      " [25 45 14 10]\n",
      " [40 16 35 40]] \n",
      "\n",
      "[[2.33333333 9.         1.25       0.33333333]\n",
      " [1.         1.8        0.28571429 0.4       ]\n",
      " [1.6        1.         1.4        1.6       ]] \n",
      "\n",
      "[[  343     9   625    64]\n",
      " [ 3125 59049   128    32]\n",
      " [32768   256 16807 32768]]\n"
     ]
    }
   ],
   "source": [
    "a = np.random.randint(1, 10, size=(3, 4))\n",
    "b = np.random.randint(1, 10, size=(3, 4))\n",
    "\n",
    "print(a+b, \"\\n\")\n",
    "print(a-b, \"\\n\")\n",
    "print(a*b, \"\\n\")\n",
    "print(a/b, \"\\n\")\n",
    "print(a**b)"
   ]
  },
  {
   "cell_type": "markdown",
   "metadata": {},
   "source": [
    "- 수학적 기법 (eg, 삼각함수, 지수,  로그 등등)"
   ]
  },
  {
   "cell_type": "code",
   "execution_count": 39,
   "metadata": {},
   "outputs": [
    {
     "name": "stdout",
     "output_type": "stream",
     "text": [
      "[0.         0.34906585 0.6981317  1.04719755 1.3962634  1.74532925\n",
      " 2.0943951  2.44346095 2.7925268  3.14159265] \n",
      "\n",
      "[0.00000000e+00 3.42020143e-01 6.42787610e-01 8.66025404e-01\n",
      " 9.84807753e-01 9.84807753e-01 8.66025404e-01 6.42787610e-01\n",
      " 3.42020143e-01 1.22464680e-16] \n",
      "\n",
      "[ 1.          0.93969262  0.76604444  0.5         0.17364818 -0.17364818\n",
      " -0.5        -0.76604444 -0.93969262 -1.        ] \n",
      "\n",
      "[ 0.00000000e+00  3.63970234e-01  8.39099631e-01  1.73205081e+00\n",
      "  5.67128182e+00 -5.67128182e+00 -1.73205081e+00 -8.39099631e-01\n",
      " -3.63970234e-01 -1.22464680e-16] \n",
      "\n"
     ]
    }
   ],
   "source": [
    "ar = np.linspace(0, np.pi, 10)\n",
    "\n",
    "print(ar, \"\\n\")\n",
    "print(np.sin(ar), \"\\n\")\n",
    "print(np.cos(ar), \"\\n\")\n",
    "print(np.tan(ar), \"\\n\")"
   ]
  },
  {
   "cell_type": "code",
   "execution_count": 40,
   "metadata": {},
   "outputs": [
    {
     "name": "stdout",
     "output_type": "stream",
     "text": [
      "[1, 2, 3]\n",
      "[ 2.71828183  7.3890561  20.08553692]\n",
      "[2. 4. 8.]\n",
      "[ 3  9 27]\n"
     ]
    }
   ],
   "source": [
    "ar = [1, 2, 3]\n",
    "print(ar)\n",
    "print(np.exp(ar))\n",
    "print(np.exp2(ar))\n",
    "print(np.power(3, ar))"
   ]
  },
  {
   "cell_type": "markdown",
   "metadata": {},
   "source": [
    "<img src=\"img/log.jpg\" align=\"Left\">"
   ]
  },
  {
   "cell_type": "code",
   "execution_count": 41,
   "metadata": {},
   "outputs": [
    {
     "name": "stdout",
     "output_type": "stream",
     "text": [
      "[1 2 3 4]\n",
      "[0.         0.69314718 1.09861229 1.38629436]\n",
      "[0.        1.        1.5849625 2.       ]\n",
      "[0.         0.30103    0.47712125 0.60205999]\n"
     ]
    }
   ],
   "source": [
    "ar = np.array([1, 2, 3, 4])\n",
    "print(ar)\n",
    "print(np.log(ar)) # 자연로그\n",
    "print(np.log2(ar)) # 공비 = 2\n",
    "print(np.log10(ar)) # 공비 = 10"
   ]
  },
  {
   "cell_type": "code",
   "execution_count": 42,
   "metadata": {},
   "outputs": [
    {
     "name": "stdout",
     "output_type": "stream",
     "text": [
      "[0.2532916  0.46631077 0.24442559 0.15896958 0.11037514 0.65632959\n",
      " 0.13818295 0.19658236 0.36872517 0.82099323] \n",
      "\n",
      "3.4141859952103557\n",
      "0.11037514116430513\n",
      "0.8209932298479351\n"
     ]
    }
   ],
   "source": [
    "ar = np.random.random(10)\n",
    "print(ar, \"\\n\")\n",
    "print(np.sum(ar))\n",
    "print(np.min(ar))\n",
    "print(np.max(ar))"
   ]
  },
  {
   "cell_type": "code",
   "execution_count": 43,
   "metadata": {},
   "outputs": [
    {
     "name": "stdout",
     "output_type": "stream",
     "text": [
      "[0.2532916  0.46631077 0.24442559 0.15896958 0.11037514 0.65632959\n",
      " 0.13818295 0.19658236 0.36872517 0.82099323] \n",
      "\n",
      "3.4141859952103557\n",
      "2.733956389795487e-06\n"
     ]
    }
   ],
   "source": [
    "print(ar, \"\\n\")\n",
    "print(np.add.reduce(ar))\n",
    "print(np.multiply.reduce(ar))"
   ]
  },
  {
   "cell_type": "code",
   "execution_count": 44,
   "metadata": {},
   "outputs": [
    {
     "name": "stdout",
     "output_type": "stream",
     "text": [
      "[[0.09710128 0.83794491 0.09609841 0.97645947]\n",
      " [0.4686512  0.97676109 0.60484552 0.73926358]\n",
      " [0.03918779 0.28280696 0.12019656 0.2961402 ]]\n",
      "(3, 4)\n",
      "\n",
      "sum : [0.60494027 2.09751296 0.82114049 2.01186324]\n",
      "min : [0.03918779 0.28280696 0.09609841 0.2961402 ]\n",
      "max : [0.4686512  0.97676109 0.60484552 0.97645947]\n",
      "\n",
      "sum : [2.00760406 2.78952139 0.73833151]\n",
      "min : [0.09609841 0.4686512  0.03918779]\n",
      "max : [0.97645947 0.97676109 0.2961402 ]\n"
     ]
    }
   ],
   "source": [
    "ar = np.random.random((3, 4))\n",
    "\n",
    "# Axis 0 = 3 , Axis 1 = 4\n",
    "print(ar)\n",
    "print(ar.shape)\n",
    "print(\"\")\n",
    "\n",
    "# Axis는 사라지는 축이다. 따라서 3이 없어짐 ...\n",
    "print(\"sum :\", ar.sum(axis=0))\n",
    "print(\"min :\", ar.min(axis=0))\n",
    "print(\"max :\", ar.max(axis=0))\n",
    "print(\"\")\n",
    "\n",
    "# Axis는 사라지는 축이다. 따라서 4가 없어짐 ...\n",
    "print(\"sum :\", ar.sum(axis=1))\n",
    "print(\"min :\", ar.min(axis=1))\n",
    "print(\"max :\", ar.max(axis=1))"
   ]
  },
  {
   "cell_type": "code",
   "execution_count": 45,
   "metadata": {},
   "outputs": [],
   "source": [
    "import pandas as pd\n",
    "data = pd.read_csv('data/president_heights.csv')\n",
    "heights = np.array(data[\"height(cm)\"])"
   ]
  },
  {
   "cell_type": "code",
   "execution_count": 46,
   "metadata": {},
   "outputs": [
    {
     "name": "stdout",
     "output_type": "stream",
     "text": [
      "179.73809523809524\n",
      "6.931843442745892\n",
      "163\n",
      "193\n"
     ]
    }
   ],
   "source": [
    "print(heights.mean())\n",
    "print(heights.std())\n",
    "print(heights.min())\n",
    "print(heights.max())"
   ]
  },
  {
   "cell_type": "markdown",
   "metadata": {},
   "source": [
    "## 8. **벡터의 내적 및 행렬 곱**\n",
    " - 주로 벡터의 내적은 **np.dot()** 혹은 **ndarray.dot()**\n",
    " - 행렬의 곱은 **np.matmul()** 혹은 **@** 사용 (np.dot()써도 상관없음)"
   ]
  },
  {
   "cell_type": "markdown",
   "metadata": {},
   "source": [
    "<img src=\"img\\dot.jpg\" align=\"Left\">"
   ]
  },
  {
   "cell_type": "code",
   "execution_count": 47,
   "metadata": {},
   "outputs": [
    {
     "data": {
      "text/plain": [
       "array([4, 2])"
      ]
     },
     "execution_count": 47,
     "metadata": {},
     "output_type": "execute_result"
    }
   ],
   "source": [
    "a = np.array([[1, -3, 2], [4, 0, -5]])\n",
    "b = np.array([3, 1, 2])\n",
    "\n",
    "#np.dot(a, b)\n",
    "a.dot(b)"
   ]
  },
  {
   "cell_type": "code",
   "execution_count": 48,
   "metadata": {},
   "outputs": [
    {
     "name": "stdout",
     "output_type": "stream",
     "text": [
      "[[19 22]\n",
      " [43 50]] \n",
      "\n",
      "[[19 22]\n",
      " [43 50]]\n"
     ]
    }
   ],
   "source": [
    "# 행렬의 곱은 np.matmul() 혹은 np.dot(), python3에서는 @로 대체 가능\n",
    "a = np.array([[1, 2], [3, 4]])\n",
    "b = np.array([[5, 6], [7, 8]])\n",
    "\n",
    "print(np.matmul(a, b), \"\\n\")\n",
    "print(np.dot(a, b))"
   ]
  },
  {
   "cell_type": "markdown",
   "metadata": {},
   "source": [
    "## 9. Broadcasting\n",
    "* Numpy에서 shape이 다른 배열 간에도 산술 연산을 가능하게 하는 메커니즘\n",
    "* Numpy의 모든 오소별 연산은 브로드캐스팅을 지원한다.\n",
    "\n",
    "<img src=\"./img/slicing3.png\">"
   ]
  },
  {
   "cell_type": "code",
   "execution_count": 49,
   "metadata": {},
   "outputs": [
    {
     "data": {
      "text/plain": [
       "array([[ 0,  2,  4],\n",
       "       [10, 12, 14],\n",
       "       [20, 22, 24],\n",
       "       [30, 32, 34]])"
      ]
     },
     "execution_count": 49,
     "metadata": {},
     "output_type": "execute_result"
    }
   ],
   "source": [
    "a = np.arange(0, 100).reshape(10, 10)[0:4, 0:3]\n",
    "b = np.array([0, 1, 2]).reshape(1, 3)\n",
    "a+b"
   ]
  },
  {
   "cell_type": "code",
   "execution_count": 50,
   "metadata": {},
   "outputs": [
    {
     "data": {
      "text/plain": [
       "array([[ 0,  1,  2],\n",
       "       [11, 12, 13],\n",
       "       [22, 23, 24],\n",
       "       [33, 34, 35]])"
      ]
     },
     "execution_count": 50,
     "metadata": {},
     "output_type": "execute_result"
    }
   ],
   "source": [
    "a = np.arange(0, 100).reshape(10, 10)[0:4, 0:3]\n",
    "b = np.array([0, 1, 2, 3]).reshape(4, 1)\n",
    "a+b"
   ]
  },
  {
   "cell_type": "code",
   "execution_count": 51,
   "metadata": {},
   "outputs": [
    {
     "data": {
      "text/plain": [
       "array([[ 0,  1,  2],\n",
       "       [10, 11, 12],\n",
       "       [20, 21, 22],\n",
       "       [30, 31, 32]])"
      ]
     },
     "execution_count": 51,
     "metadata": {},
     "output_type": "execute_result"
    }
   ],
   "source": [
    "a = np.array([0, 10, 20, 30]).reshape(4, 1)\n",
    "b = np.array([0, 1, 2]).reshape(1, 3)\n",
    "a+b"
   ]
  }
 ],
 "metadata": {
  "kernelspec": {
   "display_name": "Python 3",
   "language": "python",
   "name": "python3"
  },
  "language_info": {
   "codemirror_mode": {
    "name": "ipython",
    "version": 3
   },
   "file_extension": ".py",
   "mimetype": "text/x-python",
   "name": "python",
   "nbconvert_exporter": "python",
   "pygments_lexer": "ipython3",
   "version": "3.7.5"
  }
 },
 "nbformat": 4,
 "nbformat_minor": 2
}
