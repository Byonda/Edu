{
 "cells": [
  {
   "cell_type": "markdown",
   "metadata": {},
   "source": [
    "# Neuron\n",
    "- 신경 세포(神經細胞, neuron) 또는 뉴런은 신경계를 구성하는 세포이다.\n",
    "- 신경세포는 나트륨 통로, 칼륨 통로등의 이온 통로를 발현하여 다른 세포와는 달리 전기적인 방법으로 신호를 전달할 수 있다.\n",
    "- 또한 인접한 신경세포와 시냅스라는 구조를 통해 신호를 주고 받음으로써 다양한 정보를 받아들이고, 저장하는 기능을 한다. \n",
    "- 인간의 두뇌에는 대뇌피질에만 약 100억개의 신경세포가 존재하는 것으로 추산되고 있다. \n",
    "- 신경계에는 뉴런보다 많은 숫자의 신경 아교 세포가 존재한다."
   ]
  },
  {
   "cell_type": "markdown",
   "metadata": {},
   "source": [
    "<img src=\"./img/neuron.jpg\" width='500' />"
   ]
  },
  {
   "cell_type": "markdown",
   "metadata": {},
   "source": [
    "# Perceptron\n",
    "- Frank Rosenblat가 제안한 __Perceptron__, 신경세포의 특성을 따라 만든 인공 신경망이다.\n",
    "- 세포막 전위의 임계값을 넘어서는 전기신호가 들어왔을 때 시냅스를 통해 나트륨 및 칼슘 이온이 빠져나가는 신경세포의 특성을 따라했다.\n",
    "- 1개의 뇌세포를 가지고 우리는 어떤 일들을 할 수 있을까?"
   ]
  },
  {
   "cell_type": "markdown",
   "metadata": {},
   "source": [
    "<img src=\"./img/ML3_2.png\" width=\"600\"/>"
   ]
  },
  {
   "cell_type": "markdown",
   "metadata": {},
   "source": [
    "- 각각의 경우에 대해, loss function $l(\\cdot, \\cdot)$을 잘 정의하면 least-squares classifier와 logistic regression을 얻을 수 있음.<br/>\n",
    "\n",
    "| <p align=\"left\">&nbsp; &nbsp; &nbsp; &nbsp;Name of classifier</p> | &nbsp; &nbsp; &nbsp; &nbsp; &nbsp; Activation function &nbsp; &nbsp; &nbsp; &nbsp; &nbsp; | &nbsp; &nbsp; &nbsp; &nbsp; &nbsp; &nbsp; &nbsp; &nbsp; &nbsp; &nbsp; &nbsp; Loss function &nbsp; &nbsp; &nbsp; &nbsp; &nbsp; &nbsp; &nbsp; &nbsp; &nbsp; &nbsp; &nbsp; |\n",
    "| :---: | :--- | :--- |\n",
    "| <p align=\"left\">&nbsp; &nbsp; &nbsp; &nbsp; &nbsp; &nbsp; Perceptron</p> | <p align=\"left\">&nbsp; &nbsp; &nbsp; &nbsp;$f_w(x) = \\mathbf{1}\\{w^T x > th\\}$</p> | <p align=\"left\">&nbsp; &nbsp; &nbsp; &nbsp; &nbsp; &nbsp; &nbsp; &nbsp; &nbsp; &nbsp; &nbsp; &nbsp; &nbsp; &nbsp; &nbsp; &nbsp; &nbsp; &nbsp; &nbsp; $\\cdot$</p> |\n",
    "| <p align=\"left\">&nbsp; &nbsp;Least-squares classifier</p> | <p align=\"left\">&nbsp; &nbsp; &nbsp; &nbsp;$f_w(x) = w^T x$</p> | <p align=\"left\">&nbsp; &nbsp; &nbsp; &nbsp;$l(y,\\hat{y}) = ||y-\\hat{y}||^2$</p> |\n",
    "| <p align=\"left\">&nbsp; &nbsp; &nbsp; &nbsp; Logistic regression | <p align=\"left\">&nbsp; &nbsp; &nbsp; &nbsp;$f_w(x) = \\dfrac{1}{1+e^{-w^T x}}$</p> | <p align=\"left\">&nbsp; &nbsp; &nbsp; &nbsp;$l(y,\\hat{y}) = -ylog\\hat{y} - (1-y)log(1-\\hat{y})$</p> |"
   ]
  },
  {
   "cell_type": "markdown",
   "metadata": {},
   "source": [
    "- $f_w(x) = \\mathbf{1}\\{w^T x > th\\}$ 구현하여 보자!"
   ]
  },
  {
   "cell_type": "code",
   "execution_count": 1,
   "metadata": {},
   "outputs": [],
   "source": [
    "def perceptron(x, w, th) :\n",
    "    # x, w는 Vector여야 한다.\n",
    "    # vector는 n행 1열의 Matrix이다.\n",
    "    # perceptron의 출력은 1 아니면 0이 값이 나온다.\n",
    "    # ( 1 x 2 ) dot ( 2 x 1 ) = ( 1 x 1 )\n",
    "    \n",
    "    y = w.T.dot(x)\n",
    "    \n",
    "    \n",
    "    if y.sum() > th :\n",
    "        return 1\n",
    "    else :\n",
    "        return 0"
   ]
  },
  {
   "cell_type": "markdown",
   "metadata": {},
   "source": [
    "- AND 문제를 Perceptron을 가지고 해결해보자."
   ]
  },
  {
   "cell_type": "markdown",
   "metadata": {},
   "source": [
    "| <p align=\"left\"> $idx$ </p> | <p align=\"left\"> $x_1$ </p> | $x_2$ | $and$ | $or$ | $nand$ |\n",
    "| :---: | :---: | :--- | :--- |  :---  |  :---  |\n",
    "| <p align=\"left\"> $_1$ </p> | <p align=\"left\"> 0 </p> | <p align=\"left\"> 0 </p> | <p align=\"center\"> &nbsp;  &nbsp;0 </p> | <p align=\"left\"> &nbsp;0 </p> | <p align=\"left\"> &nbsp;  &nbsp;1 </p> |\n",
    "| <p align=\"left\"> $_2$ </p> | <p align=\"left\"> 0 </p> | <p align=\"left\"> 1 </p> | <p align=\"center\"> &nbsp;  &nbsp;0 </p> | <p align=\"left\"> &nbsp;1 </p> | <p align=\"left\"> &nbsp;  &nbsp;1 </p> |\n",
    "| <p align=\"left\"> $_3$ </p> | <p align=\"left\"> 1 </p> | <p align=\"left\"> 0 </p> | <p align=\"center\"> &nbsp;  &nbsp;0 </p> | <p align=\"left\"> &nbsp;1 </p> | <p align=\"left\"> &nbsp;  &nbsp;1 </p> |\n",
    "| <p align=\"left\"> $_4$ </p> | <p align=\"left\"> 1 </p> | <p align=\"left\"> 1 </p> | <p align=\"center\">  &nbsp;  &nbsp;1 </p> | <p align=\"left\"> &nbsp;1 </p> | <p align=\"left\"> &nbsp;  &nbsp;0 </p> |"
   ]
  },
  {
   "cell_type": "code",
   "execution_count": 2,
   "metadata": {},
   "outputs": [],
   "source": [
    "import numpy as np\n",
    "import lib.byonda as bnd\n",
    "import matplotlib.pyplot as plt\n",
    "\n",
    "X = np.array(\n",
    "    [[0, 0],\n",
    "     [0, 1],\n",
    "     [1, 0],\n",
    "     [1, 1]])\n",
    "\n",
    "plt.figure(figsize=(8, 5))\n",
    "plt.scatter(X[:, 0], X[:, 1])\n",
    "plt.grid()"
   ]
  },
  {
   "cell_type": "markdown",
   "metadata": {},
   "source": [
    "# AND, OR, NAND Gate Using Perceptron"
   ]
  },
  {
   "cell_type": "markdown",
   "metadata": {},
   "source": [
    "- Weight를 0.5, 0.5, 그리고 Bias를 0.7 주면, Perceptron은 AND Gate로 동작한다."
   ]
  },
  {
   "cell_type": "code",
   "execution_count": 3,
   "metadata": {},
   "outputs": [],
   "source": [
    "# Weight Vector를 만들어 보자.\n",
    "# Weight를 0.5, 0.5, 그리고 Bias를 0.7 주면, Perceptron은 AND Gate로 동작한다.\n",
    "w = np.array([[0.5], [0.5]])\n",
    "b = 0.7"
   ]
  },
  {
   "cell_type": "code",
   "execution_count": 4,
   "metadata": {},
   "outputs": [
    {
     "data": {
      "text/plain": [
       "array([[0, 0, 0],\n",
       "       [0, 1, 0],\n",
       "       [1, 0, 0],\n",
       "       [1, 1, 1]])"
      ]
     },
     "execution_count": 4,
     "metadata": {},
     "output_type": "execute_result"
    }
   ],
   "source": [
    "Y = []\n",
    "\n",
    "for x_i in X :\n",
    "    # x_i는 Vetor가 아니므로, Reshape이 필요하다. (n행 x 1열)\n",
    "    x_i = x_i.reshape(len(x_i), 1)\n",
    "    Y.append(perceptron(x_i, w, b))\n",
    "    \n",
    "Y = np.array(Y)\n",
    "\n",
    "np.c_[X, Y]"
   ]
  },
  {
   "cell_type": "markdown",
   "metadata": {},
   "source": [
    "- Weight를 0.5, 0.5, 그리고 Bias를 0을 주면, Perceptron은 OR Gate로 동작한다."
   ]
  },
  {
   "cell_type": "code",
   "execution_count": 5,
   "metadata": {},
   "outputs": [],
   "source": [
    "# Weight Vector를 만들어 보자.\n",
    "# Weight를 0.5, 0.5, 그리고 Bias를 0을 주면, Perceptron은 OR Gate로 동작한다.\n",
    "w = np.array([[0.5], [0.5]])\n",
    "b = 0.0"
   ]
  },
  {
   "cell_type": "code",
   "execution_count": 6,
   "metadata": {},
   "outputs": [
    {
     "data": {
      "text/plain": [
       "array([[0, 0, 0],\n",
       "       [0, 1, 1],\n",
       "       [1, 0, 1],\n",
       "       [1, 1, 1]])"
      ]
     },
     "execution_count": 6,
     "metadata": {},
     "output_type": "execute_result"
    }
   ],
   "source": [
    "Y = []\n",
    "\n",
    "for x_i in X :\n",
    "    # x_i는 Vetor가 아니므로, Reshape이 필요하다. (n행 x 1열)\n",
    "    x_i = x_i.reshape(len(x_i), 1)\n",
    "    Y.append(perceptron(x_i, w, b))\n",
    "    \n",
    "Y = np.array(Y)\n",
    "\n",
    "np.c_[X, Y]"
   ]
  },
  {
   "cell_type": "markdown",
   "metadata": {},
   "source": [
    "- Weight를 -0.5, -0.5, 그리고 Bias를 0을 주면, Perceptron은 OR Gate로 동작한다."
   ]
  },
  {
   "cell_type": "code",
   "execution_count": 7,
   "metadata": {},
   "outputs": [],
   "source": [
    "# Weight Vector를 만들어 보자.\n",
    "# Weight를 -0.5, -0.5, 그리고 Bias를 0을 주면, Perceptron은 OR Gate로 동작한다.\n",
    "w = np.array([[-0.5], [-0.5]])\n",
    "b = -0.7"
   ]
  },
  {
   "cell_type": "code",
   "execution_count": 8,
   "metadata": {},
   "outputs": [
    {
     "data": {
      "text/plain": [
       "array([[0, 0, 1],\n",
       "       [0, 1, 1],\n",
       "       [1, 0, 1],\n",
       "       [1, 1, 0]])"
      ]
     },
     "execution_count": 8,
     "metadata": {},
     "output_type": "execute_result"
    }
   ],
   "source": [
    "Y = []\n",
    "\n",
    "for x_i in X :\n",
    "    # x_i는 Vetor가 아니므로, Reshape이 필요하다. (n행 x 1열)\n",
    "    x_i = x_i.reshape(len(x_i), 1)\n",
    "    Y.append(perceptron(x_i, w, b))\n",
    "    \n",
    "Y = np.array(Y)\n",
    " \n",
    "np.c_[X, Y]"
   ]
  },
  {
   "cell_type": "markdown",
   "metadata": {},
   "source": [
    "# Least-squares classifier"
   ]
  },
  {
   "cell_type": "markdown",
   "metadata": {},
   "source": [
    "- 각각의 경우에 대해, loss function $l(\\cdot, \\cdot)$을 잘 정의하면 least-squares classifier를 얻을 수 있음.<br/>\n",
    "\n",
    "| <p align=\"left\">&nbsp; &nbsp; &nbsp; &nbsp;Name of classifier</p> | &nbsp; &nbsp; &nbsp; &nbsp; &nbsp; Activation function &nbsp; &nbsp; &nbsp; &nbsp; &nbsp; | &nbsp; &nbsp; &nbsp; &nbsp; &nbsp; &nbsp; &nbsp; &nbsp; &nbsp; &nbsp; &nbsp; Loss function &nbsp; &nbsp; &nbsp; &nbsp; &nbsp; &nbsp; &nbsp; &nbsp; &nbsp; &nbsp; &nbsp; |\n",
    "| :---: | :--- | :--- |\n",
    "| <p align=\"left\">&nbsp; &nbsp;Least-squares classifier</p> | <p align=\"left\">&nbsp; &nbsp; &nbsp; &nbsp;$f_w(x) = w^T x$</p> | <p align=\"left\">&nbsp; &nbsp; &nbsp; &nbsp;$l(y,\\hat{y}) = ||y-\\hat{y}||^2$</p> |"
   ]
  },
  {
   "cell_type": "markdown",
   "metadata": {},
   "source": [
    "- <font color='red'>Least-squares classifier는 제곱편차의 합(aggregated squared error)을 최소화하는 선형함수를 찾는 문제.</font>\n",
    "- 결과값은 -1, 또는 1 이며, 다수 행렬의 Continuous한 Parameter에 대한 동작이 가능하다.\n",
    "- 제곱편차의 합을 최소화하는 문제는 다음과 같이 표현할 수 있음. 식에서 $x_{i}^{T}w - y_i$는 편차를, $|| \\cdot ||^2$은 제곱을, $\\sum$은 합을 나타냄.\n",
    "<img src=\"./img/LS5.png\" width=\"250\"/>\n",
    "- 이때, $A:=\\begin{bmatrix}x_{1}^{T} \\\\ \\vdots \\\\ x_{m}^{T} \\end{bmatrix}$, $b:=\\begin{bmatrix}y_{1} \\\\ \\vdots \\\\ y_{m} \\end{bmatrix}$로 치환하면, 이는 $\\mathrm{min}_{w \\in \\mathbb{R}^d} || Aw-b||^2$와 같은 형태로 나타남."
   ]
  },
  {
   "cell_type": "markdown",
   "metadata": {},
   "source": [
    "<img src=\"./img/closed_form.jpg\" align='Left'/>"
   ]
  },
  {
   "cell_type": "markdown",
   "metadata": {},
   "source": [
    "- 이 closed form solution을 이용하여, 경사하강법을 통하지 않고, $w^* = (A^T A)^{-1}A^T b$를 쉽게 구할 수가 있음\n",
    "- 이렇게도 표현해보자! $w^* = (X^T X)^{-1}X^T Y$를 구할 수 있음."
   ]
  },
  {
   "cell_type": "markdown",
   "metadata": {},
   "source": [
    "- Continus한 X1, X2 그리고, 범주형 결과값을 가지는 데이터를 불러오자"
   ]
  },
  {
   "cell_type": "code",
   "execution_count": 73,
   "metadata": {},
   "outputs": [
    {
     "data": {
      "image/png": "[encoded data removed]",
      "text/plain": [
       "<Figure size 576x360 with 1 Axes>"
      ]
     },
     "metadata": {
      "needs_background": "light"
     },
     "output_type": "display_data"
    }
   ],
   "source": [
    "import lib.byonda as bnd\n",
    "(X, Y), _ = bnd.generate_normal(100)\n",
    "\n",
    "plt.figure(figsize=(8, 5)) \n",
    "plt.scatter(X[:, 0], X[:, 1], c=Y, cmap='RdBu', edgecolor=\"white\", vmin = -.2, vmax = 1.2)\n",
    "plt.xlabel(\"Grand Mother\")\n",
    "plt.ylabel(\"Forecast\")\n",
    "plt.grid()"
   ]
  },
  {
   "cell_type": "code",
   "execution_count": 10,
   "metadata": {},
   "outputs": [],
   "source": [
    "# Data 전처리 필요\n",
    "# 0은 모두 -1로 바꿔 주자! ( Least Square는 -1과 1로 Clissify한다.)\n",
    "Y[Y==0] = -1.0"
   ]
  },
  {
   "cell_type": "code",
   "execution_count": 11,
   "metadata": {},
   "outputs": [],
   "source": [
    "# Normalized 할 필요가 있음\n",
    "# Bias를 고려하지 못함\n",
    "def Normalize(data):\n",
    "    return (data - data.mean()) / data.std()\n",
    "\n",
    "X[:, 0] = Normalize(X[:, 0])\n",
    "X[:, 1] = Normalize(X[:, 1])"
   ]
  },
  {
   "cell_type": "code",
   "execution_count": 12,
   "metadata": {},
   "outputs": [
    {
     "data": {
      "image/png": "[encoded data removed]",
      "text/plain": [
       "<Figure size 576x360 with 1 Axes>"
      ]
     },
     "metadata": {
      "needs_background": "light"
     },
     "output_type": "display_data"
    }
   ],
   "source": [
    "plt.figure(figsize=(8, 5)) \n",
    "plt.scatter(X[:, 0], X[:, 1], c=Y, cmap='RdBu', edgecolor=\"white\",  vmin = -.2, vmax = 1.2)\n",
    "plt.xlabel(\"Grand Mother\")\n",
    "plt.ylabel(\"Forecast\")\n",
    "plt.grid()"
   ]
  },
  {
   "cell_type": "markdown",
   "metadata": {},
   "source": [
    "- 앞서 언급했던 closed form solution을 이용하여, $w^* = (X^T X)^{-1}X^T Y$를 구할 수 있음."
   ]
  },
  {
   "cell_type": "code",
   "execution_count": 13,
   "metadata": {},
   "outputs": [],
   "source": [
    "def fit(X, Y):    \n",
    "    w = (np.linalg.inv(X.T.dot(X)).dot(X.T)).dot(Y)\n",
    "    return w"
   ]
  },
  {
   "cell_type": "code",
   "execution_count": 14,
   "metadata": {},
   "outputs": [],
   "source": [
    "# 주어진 데이터를 가지고 Fitting을 시키자.\n",
    "# Close form이 있으므로 Edge는 쉽게 구할 수가 있다.\n",
    "w = fit(X, Y)"
   ]
  },
  {
   "cell_type": "code",
   "execution_count": 15,
   "metadata": {},
   "outputs": [],
   "source": [
    "# 앞서 다차원 Classfication 문제를 해결하기 위해,\n",
    "# 등고선 그래프를 그리기 위해, meshgrid 변수를 선언한다.\n",
    "# 위의 그래프를 보고 적절한 법위를 정하자.\n",
    "XX1, XX2 = np.meshgrid(np.arange(-3.5, 3.5, 0.01), np.arange(-3.5, 3.5, 0.01))\n",
    "X_test = np.c_[XX1.ravel(), XX2.ravel()]"
   ]
  },
  {
   "cell_type": "code",
   "execution_count": 16,
   "metadata": {},
   "outputs": [
    {
     "data": {
      "text/plain": [
       "array([ 3.32335972,  3.32010665,  3.31685358, ..., -3.30735826,\n",
       "       -3.31061133, -3.3138644 ])"
      ]
     },
     "execution_count": 16,
     "metadata": {},
     "output_type": "execute_result"
    }
   ],
   "source": [
    "pred = X_test.dot(w)\n",
    "pred"
   ]
  },
  {
   "cell_type": "code",
   "execution_count": 17,
   "metadata": {},
   "outputs": [],
   "source": [
    "# 음수는 -1.0, 양수는 1.0으로 바꾸어주면 예측은 끝이 난다.\n",
    "Y_hat = np.sign(pred)\n",
    "YY_hat = Y_hat.reshape(XX1.shape)"
   ]
  },
  {
   "cell_type": "code",
   "execution_count": 71,
   "metadata": {},
   "outputs": [
    {
     "data": {
      "text/plain": [
       "<matplotlib.colorbar.Colorbar at 0x7f5225a65d10>"
      ]
     },
     "execution_count": 71,
     "metadata": {},
     "output_type": "execute_result"
    },
    {
     "data": {
      "image/png": "[encoded data removed]",
      "text/plain": [
       "<Figure size 576x360 with 2 Axes>"
      ]
     },
     "metadata": {
      "needs_background": "light"
     },
     "output_type": "display_data"
    }
   ],
   "source": [
    "plt.figure(figsize=(8, 5)) \n",
    "plt.pcolormesh(XX1, XX2, YY_hat, cmap = \"RdBu\", vmin = -.2, vmax = 1.2)\n",
    "plt.scatter(X[:, 0], X[:, 1], c=Y, cmap='RdBu', edgecolor=\"white\", )\n",
    "plt.xlabel(\"Grand Mother\")\n",
    "plt.ylabel(\"Forecast\")\n",
    "plt.grid()\n",
    "plt.colorbar()"
   ]
  },
  {
   "cell_type": "code",
   "execution_count": 19,
   "metadata": {},
   "outputs": [
    {
     "name": "stdout",
     "output_type": "stream",
     "text": [
      "Total : 80\n",
      "Corre : 75\n"
     ]
    }
   ],
   "source": [
    "print(\"Total :\", len(X))\n",
    "print(\"Corre :\", np.sum(np.sign(X.dot(w))==Y))"
   ]
  },
  {
   "cell_type": "markdown",
   "metadata": {},
   "source": [
    "# Non-Linear Problem\n",
    "- XOR 문제와 같이 도저히 선형방정식으로는 문제를 풀 수 없는 것들이 있다.\n",
    " \n",
    "| <p align=\"left\"> A </p> | B | A __XOR__ B |\n",
    "| :---: | :--- | :--- |\n",
    "| <p align=\"left\"> 0 </p> | <p align=\"left\"> 0 </p> | <p align=\"center\"> &nbsp;&nbsp;&nbsp;&nbsp;&nbsp; 0 </p> |\n",
    "| <p align=\"left\"> 0 </p> | <p align=\"left\"> 1 </p> | <p align=\"center\"> &nbsp;&nbsp;&nbsp;&nbsp;&nbsp; 1 </p> |\n",
    "| <p align=\"left\"> 1 </p> | <p align=\"left\"> 0 </p> | <p align=\"center\"> &nbsp;&nbsp;&nbsp;&nbsp;&nbsp; 1 </p> |\n",
    "| <p align=\"left\"> 1 </p> | <p align=\"left\"> 1 </p> | <p align=\"center\"> &nbsp;&nbsp;&nbsp;&nbsp;&nbsp; 0 </p> |"
   ]
  },
  {
   "cell_type": "code",
   "execution_count": 95,
   "metadata": {},
   "outputs": [],
   "source": [
    "# XOR inputs & Corresponding outputs\n",
    "X = np.array([[0, 0], [0, 1], [1, 0], [1, 1]])\n",
    "Y = np.array([0, 1, 1, 0])"
   ]
  },
  {
   "cell_type": "code",
   "execution_count": 96,
   "metadata": {},
   "outputs": [
    {
     "data": {
      "image/png": "[encoded data removed]",
      "text/plain": [
       "<Figure size 576x360 with 1 Axes>"
      ]
     },
     "metadata": {
      "needs_background": "light"
     },
     "output_type": "display_data"
    }
   ],
   "source": [
    "plt.figure(figsize=(8, 5)) \n",
    "plt.scatter(X[:,0], X[:, 1], c=Y, cmap='RdBu', vmin = -.2, vmax = 1.2)\n",
    "plt.grid()"
   ]
  },
  {
   "cell_type": "code",
   "execution_count": 97,
   "metadata": {},
   "outputs": [],
   "source": [
    "w = fit(X, Y)"
   ]
  },
  {
   "cell_type": "code",
   "execution_count": 107,
   "metadata": {},
   "outputs": [],
   "source": [
    "# 앞서 다차원 Classfication 문제를 해결하기 위해,\n",
    "# 등고선 그래프를 그리기 위해, meshgrid 변수를 선언한다.\n",
    "# 위의 그래프를 보고 적절한 법위를 정하자.\n",
    "XX1, XX2 = np.meshgrid(np.arange(-0.5, 1.5, 0.01), np.arange(-0.5, 1.5, 0.01))\n",
    "X_test = np.c_[XX1.ravel(), XX2.ravel()]"
   ]
  },
  {
   "cell_type": "code",
   "execution_count": 108,
   "metadata": {},
   "outputs": [],
   "source": [
    "Y_hat = np.sign(X_test.dot(w)) # Predict\n",
    "YY_hat = Y_hat.reshape(XX1.shape)"
   ]
  },
  {
   "cell_type": "code",
   "execution_count": 109,
   "metadata": {},
   "outputs": [
    {
     "data": {
      "image/png": "[encoded data removed]",
      "text/plain": [
       "<Figure size 576x360 with 1 Axes>"
      ]
     },
     "metadata": {
      "needs_background": "light"
     },
     "output_type": "display_data"
    }
   ],
   "source": [
    "plt.figure(figsize=(8, 5)) \n",
    "plt.pcolormesh(XX1, XX2, YY_hat, cmap = \"RdBu\", vmin = -.2, vmax = 1.2)\n",
    "plt.scatter(X[:, 0], X[:, 1], c=Y, cmap='RdBu', edgecolor=\"white\")\n",
    "plt.grid()"
   ]
  },
  {
   "cell_type": "code",
   "execution_count": 110,
   "metadata": {},
   "outputs": [
    {
     "name": "stdout",
     "output_type": "stream",
     "text": [
      "Total : 4\n",
      "Corre : 3\n"
     ]
    }
   ],
   "source": [
    "print(\"Total :\", len(X))\n",
    "print(\"Corre :\", np.sum(np.sign(X.dot(w))==Y))"
   ]
  }
 ],
 "metadata": {
  "kernelspec": {
   "display_name": "Python 3",
   "language": "python",
   "name": "python3"
  },
  "language_info": {
   "codemirror_mode": {
    "name": "ipython",
    "version": 3
   },
   "file_extension": ".py",
   "mimetype": "text/x-python",
   "name": "python",
   "nbconvert_exporter": "python",
   "pygments_lexer": "ipython3",
   "version": "3.7.5"
  }
 },
 "nbformat": 4,
 "nbformat_minor": 2
}
