{
 "cells": [
  {
   "cell_type": "markdown",
   "metadata": {},
   "source": [
    "# 01, 02문자열 연산"
   ]
  },
  {
   "cell_type": "code",
   "execution_count": 1,
   "metadata": {},
   "outputs": [
    {
     "name": "stdout",
     "output_type": "stream",
     "text": [
      "I Love Python Hello Python\n"
     ]
    }
   ],
   "source": [
    "a = 'I Love Python'\n",
    "b = ' Hello Python'\n",
    "print(a+b)"
   ]
  },
  {
   "cell_type": "code",
   "execution_count": 2,
   "metadata": {},
   "outputs": [
    {
     "data": {
      "text/plain": [
       "'I Love Python I Love Python I Love Python '"
      ]
     },
     "execution_count": 2,
     "metadata": {},
     "output_type": "execute_result"
    }
   ],
   "source": [
    "(a+\" \") * 3"
   ]
  },
  {
   "cell_type": "code",
   "execution_count": 3,
   "metadata": {},
   "outputs": [
    {
     "name": "stdout",
     "output_type": "stream",
     "text": [
      "\n",
      "\n",
      "나의 살던 고향은,\n",
      "꽃피는 산골 ...\n",
      "\n",
      "복숭아꽃, 살구꽃 아기 진달래 ...\n",
      "\n",
      "\n"
     ]
    }
   ],
   "source": [
    "a = \"\"\"\n",
    "\n",
    "나의 살던 고향은,\n",
    "꽃피는 산골 ...\n",
    "\n",
    "복숭아꽃, 살구꽃 아기 진달래 ...\n",
    "\n",
    "\"\"\"\n",
    "\n",
    "print(a)"
   ]
  },
  {
   "cell_type": "code",
   "execution_count": 4,
   "metadata": {},
   "outputs": [
    {
     "data": {
      "text/plain": [
       "'21살 입니다.'"
      ]
     },
     "execution_count": 4,
     "metadata": {},
     "output_type": "execute_result"
    }
   ],
   "source": [
    "age = 21\n",
    "line = \"살 입니다.\"\n",
    "\n",
    "# age + line # TypeError: unsupported operand type(s) for +: 'int' and 'str'\n",
    "str(age) + line"
   ]
  },
  {
   "cell_type": "markdown",
   "metadata": {},
   "source": [
    "# 03 문자열 인덱싱과 슬라이싱"
   ]
  },
  {
   "cell_type": "code",
   "execution_count": 5,
   "metadata": {},
   "outputs": [
    {
     "name": "stdout",
     "output_type": "stream",
     "text": [
      "S\n",
      "t\n",
      "r\n",
      "i\n",
      "n\n",
      "g\n"
     ]
    }
   ],
   "source": [
    "a = \"Strings in Python.\"\n",
    "\n",
    "print(a[0])\n",
    "print(a[1])\n",
    "print(a[2])\n",
    "print(a[3])\n",
    "print(a[4])\n",
    "print(a[5])"
   ]
  },
  {
   "cell_type": "code",
   "execution_count": 6,
   "metadata": {},
   "outputs": [
    {
     "name": "stdout",
     "output_type": "stream",
     "text": [
      "P\n",
      "y\n",
      "t\n",
      "h\n",
      "o\n",
      "n\n"
     ]
    }
   ],
   "source": [
    "print(a[-7])\n",
    "print(a[-6])\n",
    "print(a[-5])\n",
    "print(a[-4])\n",
    "print(a[-3])\n",
    "print(a[-2])"
   ]
  },
  {
   "cell_type": "markdown",
   "metadata": {},
   "source": [
    "# 04 문자열 슬라이싱"
   ]
  },
  {
   "cell_type": "code",
   "execution_count": 7,
   "metadata": {},
   "outputs": [
    {
     "name": "stdout",
     "output_type": "stream",
     "text": [
      "Hello\n"
     ]
    }
   ],
   "source": [
    "a = 'Hello Python.'\n",
    "print(a[0:5])"
   ]
  },
  {
   "cell_type": "code",
   "execution_count": 8,
   "metadata": {},
   "outputs": [
    {
     "name": "stdout",
     "output_type": "stream",
     "text": [
      "Python\n"
     ]
    }
   ],
   "source": [
    "# print(a[-1:-7]) # 작은 수부터 시작해야 함\n",
    "print(a[-7:-1])"
   ]
  },
  {
   "cell_type": "code",
   "execution_count": 9,
   "metadata": {},
   "outputs": [
    {
     "name": "stdout",
     "output_type": "stream",
     "text": [
      "Python.\n"
     ]
    }
   ],
   "source": [
    "print(a[-7:])"
   ]
  },
  {
   "cell_type": "code",
   "execution_count": 10,
   "metadata": {},
   "outputs": [
    {
     "name": "stdout",
     "output_type": "stream",
     "text": [
      "Hello\n"
     ]
    }
   ],
   "source": [
    "print(a[:5])"
   ]
  },
  {
   "cell_type": "markdown",
   "metadata": {},
   "source": [
    "# 05, 06, 07 문자열 조작 명령어 (1,2,3)"
   ]
  },
  {
   "cell_type": "code",
   "execution_count": 11,
   "metadata": {},
   "outputs": [
    {
     "data": {
      "text/plain": [
       "'A--B--C--D'"
      ]
     },
     "execution_count": 11,
     "metadata": {},
     "output_type": "execute_result"
    }
   ],
   "source": [
    "a = \"--\"\n",
    "a.join([\"A\", \"B\", \"C\", \"D\"])"
   ]
  },
  {
   "cell_type": "code",
   "execution_count": 12,
   "metadata": {},
   "outputs": [
    {
     "data": {
      "text/plain": [
       "['arc', 'bug', 'can', 'dream', 'elephant']"
      ]
     },
     "execution_count": 12,
     "metadata": {},
     "output_type": "execute_result"
    }
   ],
   "source": [
    "a = \"arc bug can dream elephant\"\n",
    "a.split(\" \")"
   ]
  },
  {
   "cell_type": "code",
   "execution_count": 13,
   "metadata": {},
   "outputs": [
    {
     "data": {
      "text/plain": [
       "['arc', 'bug', 'can', 'dream', 'elephant']"
      ]
     },
     "execution_count": 13,
     "metadata": {},
     "output_type": "execute_result"
    }
   ],
   "source": [
    "a = \"arc-bug-can-dream-elephant\"\n",
    "a.split(\"-\")"
   ]
  },
  {
   "cell_type": "code",
   "execution_count": 14,
   "metadata": {},
   "outputs": [
    {
     "name": "stdout",
     "output_type": "stream",
     "text": [
      "나의 살던 고향은 꽃피는 산골\n",
      "나의 살던 고향은 꽃피는 교도소\n"
     ]
    }
   ],
   "source": [
    "a = \"나의 살던 고향은 꽃피는 산골\"\n",
    "print(a)\n",
    "print(a.replace(\"산골\", \"교도소\"))"
   ]
  },
  {
   "cell_type": "code",
   "execution_count": 15,
   "metadata": {},
   "outputs": [
    {
     "name": "stdout",
     "output_type": "stream",
     "text": [
      "Python\n",
      "PYTHON\n",
      "python\n",
      "Python\n"
     ]
    }
   ],
   "source": [
    "a = \"Python\"\n",
    "b = \"python\"\n",
    "print(a)\n",
    "print(a.upper())\n",
    "print(a.lower())\n",
    "print(b.capitalize())"
   ]
  },
  {
   "cell_type": "markdown",
   "metadata": {},
   "source": [
    "**Practice 3. 사용자에게 영어문장을 입력 받으면 문장을 재출력하되 첫 번 째 글자는 대문자로 출력하게 하라**"
   ]
  },
  {
   "cell_type": "code",
   "execution_count": 16,
   "metadata": {},
   "outputs": [
    {
     "name": "stdout",
     "output_type": "stream",
     "text": [
      "\n",
      "\n"
     ]
    }
   ],
   "source": [
    "a = str(input())\n",
    "print(a.capitalize())"
   ]
  },
  {
   "cell_type": "code",
   "execution_count": 17,
   "metadata": {},
   "outputs": [
    {
     "name": "stdout",
     "output_type": "stream",
     "text": [
      "5\n",
      "4\n",
      "4\n"
     ]
    }
   ],
   "source": [
    "a = \"Ladies and Gentleman, Welcome to Python world!\"\n",
    "print(a.count(\"e\"))\n",
    "print(a.find(\"e\"))\n",
    "print(a.index(\"e\"))\n",
    "#print(a.find(\"x\"))\n",
    "#print(a.index(\"x\"))"
   ]
  },
  {
   "cell_type": "markdown",
   "metadata": {},
   "source": [
    "# 08 문자열 포매팅 %"
   ]
  },
  {
   "cell_type": "code",
   "execution_count": 18,
   "metadata": {},
   "outputs": [
    {
     "name": "stdout",
     "output_type": "stream",
     "text": [
      "My favorite fruit is apple !\n",
      "My favorite fruit is apple !\n",
      "My favorite fruit is apple !\n",
      "My favorite fruit is apple !\n",
      "My favorite fruit is apple !\n",
      "My favorite fruit is apple !\n"
     ]
    }
   ],
   "source": [
    "a = \"fruit\"\n",
    "#b = \"mango\"\n",
    "b = \"apple\"\n",
    "\n",
    "print(\"My favorite \" + a + \" is \" + b + \" !\")\n",
    "print(\"My favorite\", a, \"is\", b, \"!\")\n",
    "print(\"My favorite %s is %s !\" %(a, b))\n",
    "print(\"My favorite {0} is {1} !\".format(a, b))\n",
    "print(\"My favorite {1} is {0} !\".format(b, a))\n",
    "print(\"My favorite {favor} is {object} !\".format(favor=a, object=b))"
   ]
  },
  {
   "cell_type": "markdown",
   "metadata": {},
   "source": [
    "# 01 배열"
   ]
  },
  {
   "cell_type": "code",
   "execution_count": 19,
   "metadata": {},
   "outputs": [
    {
     "name": "stdout",
     "output_type": "stream",
     "text": [
      "['A', 'b', 3, '4', '@']\n",
      "('A', 'b', 3, '4', '@')\n",
      "{'b', 3, '@', 'A', '4'}\n",
      "{'A': 'a', 'b': 'B', 3: '#', '4': 4, '@': '앳'}\n"
     ]
    }
   ],
   "source": [
    "data_list = [\"A\", \"b\", 3, \"4\", \"@\"]\n",
    "print (data_list)\n",
    "\n",
    "data_tuple = \"A\", \"b\", 3, \"4\", \"@\"\n",
    "print (data_tuple)\n",
    "\n",
    "data_set = {\"A\", \"b\", 3, \"4\", \"@\"}\n",
    "print (data_set)\n",
    "\n",
    "data_dictionary = {\"A\":\"a\", \"b\":\"B\", 3:\"#\", \"4\":4, \"@\":\"앳\"}\n",
    "print (data_dictionary)"
   ]
  },
  {
   "cell_type": "markdown",
   "metadata": {},
   "source": [
    "# 02, 03, 04, 05 리스트"
   ]
  },
  {
   "cell_type": "code",
   "execution_count": 20,
   "metadata": {},
   "outputs": [
    {
     "name": "stdout",
     "output_type": "stream",
     "text": [
      "['A', 'b', 'Dog', 3, '4', 'z', 2, 1, 'F']\n",
      "['A', 'b', 'b', 'Dog', 3, '4', 'z', 2, 1, 'F']\n",
      "['A', 'b', 'b', 'Dog', 3, '4', 'z', 2, 1, 'F', 'G', 'House']\n",
      "['A', 'b', 'Dog', 3, '4', 'z', 2, 1, 'F', 'G', 'House']\n"
     ]
    }
   ],
   "source": [
    "data_list = [\"A\", \"b\", \"Dog\", 3, \"4\", \"z\", 2, 1]\n",
    "\n",
    "data_list.append('F')\n",
    "print(data_list)\n",
    "data_list.insert(2, 'b')\n",
    "print(data_list)\n",
    "data_list.extend(['G', 'House'])\n",
    "print(data_list)\n",
    "data_list.remove(\"b\")\n",
    "print(data_list)"
   ]
  },
  {
   "cell_type": "markdown",
   "metadata": {},
   "source": [
    "# 06, 07 튜플"
   ]
  },
  {
   "cell_type": "code",
   "execution_count": 21,
   "metadata": {},
   "outputs": [
    {
     "name": "stdout",
     "output_type": "stream",
     "text": [
      "3\n",
      "(2, 3)\n",
      "True\n",
      "False\n"
     ]
    }
   ],
   "source": [
    "a = 1, 2, 3, 4, 5\n",
    "print(a[2])\n",
    "print(a[1:3])\n",
    "print(3 in a)\n",
    "print(3 not in a)"
   ]
  },
  {
   "cell_type": "code",
   "execution_count": 22,
   "metadata": {},
   "outputs": [
    {
     "name": "stdout",
     "output_type": "stream",
     "text": [
      "1\n",
      "2\n",
      "3\n",
      "4\n",
      "5\n",
      "\n",
      "1\n",
      "2\n",
      "[3, 4, 5]\n",
      "3 4 5\n"
     ]
    }
   ],
   "source": [
    "#Tuple의 가장 큰 특징은 여러개의 변수를 하나로 엮을 수 있다는 점이다. (Packing)\n",
    "# Packing\n",
    "pack = 1, 2, 3, 4, 5\n",
    "\n",
    "# Tuple의 가장 큰 특징은 여러개의 변수를 하나로 엮을 수 있다는 점이다. (Packing)\n",
    "# Un-packing\n",
    "a, b, c, d, e = pack\n",
    "\n",
    "print(a)\n",
    "print(b)\n",
    "print(c)\n",
    "print(d)\n",
    "print(e)\n",
    "print(\"\")\n",
    "\n",
    "a, b, *c = pack\n",
    "\n",
    "print(a)\n",
    "print(b)\n",
    "print(c)\n",
    "\n",
    "# 다 풀어내기 싫으면 _를 이용할 수도 있다.\n",
    "_, _, c, d, e = pack\n",
    "print(c, d, e)"
   ]
  },
  {
   "cell_type": "code",
   "execution_count": 23,
   "metadata": {},
   "outputs": [
    {
     "name": "stdout",
     "output_type": "stream",
     "text": [
      "1 9\n",
      "\n",
      "9 1\n"
     ]
    }
   ],
   "source": [
    "# 값을 Switch 할 때, 일반적으로 C 라는 새로운 변수가 있어야 하지만 ...\n",
    "a = 1\n",
    "b = 9\n",
    "\n",
    "print(a, b)\n",
    "print(\"\")\n",
    "\n",
    "c = a\n",
    "a = b\n",
    "b = c\n",
    "\n",
    "print(a, b)"
   ]
  },
  {
   "cell_type": "code",
   "execution_count": 24,
   "metadata": {},
   "outputs": [
    {
     "name": "stdout",
     "output_type": "stream",
     "text": [
      "1 9\n",
      "\n",
      "9 1\n"
     ]
    }
   ],
   "source": [
    "# Tuple을 이용하면 보다 간단하게 처리할 수 있다.\n",
    "a = 1\n",
    "b = 9\n",
    "\n",
    "print(a, b)\n",
    "print(\"\")\n",
    "\n",
    "a, b = b, a\n",
    "\n",
    "print(a, b)"
   ]
  },
  {
   "cell_type": "markdown",
   "metadata": {},
   "source": [
    "# 09, 10, 11 Dictionary"
   ]
  },
  {
   "cell_type": "code",
   "execution_count": 25,
   "metadata": {},
   "outputs": [
    {
     "data": {
      "text/plain": [
       "{1: '사과', 2: 'B', '가나다': ['가', '나', '다', '라', '마', '바']}"
      ]
     },
     "execution_count": 25,
     "metadata": {},
     "output_type": "execute_result"
    }
   ],
   "source": [
    "a = {1:\"사과\", 2:\"B\", \"가나다\":[\"가\", \"나\", \"다\", \"라\", \"마\", \"바\"]}\n",
    "a"
   ]
  },
  {
   "cell_type": "code",
   "execution_count": 26,
   "metadata": {},
   "outputs": [
    {
     "data": {
      "text/plain": [
       "'마'"
      ]
     },
     "execution_count": 26,
     "metadata": {},
     "output_type": "execute_result"
    }
   ],
   "source": [
    "lst = a[\"가나다\"]\n",
    "lst[4]"
   ]
  },
  {
   "cell_type": "code",
   "execution_count": 27,
   "metadata": {},
   "outputs": [
    {
     "data": {
      "text/plain": [
       "{1: '사과',\n",
       " 2: 'B',\n",
       " '가나다': ['가', '나', '다', '라', '마', '바'],\n",
       " 'NewItem': '그대, 이름은 장미'}"
      ]
     },
     "execution_count": 27,
     "metadata": {},
     "output_type": "execute_result"
    }
   ],
   "source": [
    "a[\"NewItem\"] = \"그대, 이름은 장미\"\n",
    "a"
   ]
  },
  {
   "cell_type": "code",
   "execution_count": 28,
   "metadata": {},
   "outputs": [
    {
     "data": {
      "text/plain": [
       "{1: '사과', '가나다': ['가', '나', '다', '라', '마', '바'], 'NewItem': '그대, 이름은 장미'}"
      ]
     },
     "execution_count": 28,
     "metadata": {},
     "output_type": "execute_result"
    }
   ],
   "source": [
    "del a[2]\n",
    "a"
   ]
  }
 ],
 "metadata": {
  "kernelspec": {
   "display_name": "Python 3",
   "language": "python",
   "name": "python3"
  },
  "language_info": {
   "codemirror_mode": {
    "name": "ipython",
    "version": 3
   },
   "file_extension": ".py",
   "mimetype": "text/x-python",
   "name": "python",
   "nbconvert_exporter": "python",
   "pygments_lexer": "ipython3",
   "version": "3.7.5"
  }
 },
 "nbformat": 4,
 "nbformat_minor": 2
}
