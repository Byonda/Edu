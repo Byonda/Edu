{
 "cells": [
  {
   "cell_type": "markdown",
   "metadata": {},
   "source": [
    "# 01, 02 함수의 사용"
   ]
  },
  {
   "cell_type": "code",
   "execution_count": 1,
   "metadata": {},
   "outputs": [
    {
     "name": "stdout",
     "output_type": "stream",
     "text": [
      "함수를 정의할 때는 def(definition)를 이용합니다.\n"
     ]
    }
   ],
   "source": [
    "def abc():\n",
    "    print(\"함수를 정의할 때는 def(definition)를 이용합니다.\")\n",
    "    \n",
    "abc()"
   ]
  },
  {
   "cell_type": "code",
   "execution_count": 2,
   "metadata": {},
   "outputs": [
    {
     "name": "stdout",
     "output_type": "stream",
     "text": [
      "['False', 'None', 'True', 'and', 'as', 'assert', 'async', 'await', 'break', 'class', 'continue', 'def', 'del', 'elif', 'else', 'except', 'finally', 'for', 'from', 'global', 'if', 'import', 'in', 'is', 'lambda', 'nonlocal', 'not', 'or', 'pass', 'raise', 'return', 'try', 'while', 'with', 'yield']\n"
     ]
    }
   ],
   "source": [
    "import keyword\n",
    "print(keyword.kwlist)"
   ]
  },
  {
   "cell_type": "markdown",
   "metadata": {},
   "source": [
    "# 03, 04, 05, 매게변수와 리턴값"
   ]
  },
  {
   "cell_type": "code",
   "execution_count": 3,
   "metadata": {},
   "outputs": [
    {
     "name": "stdout",
     "output_type": "stream",
     "text": [
      "저는 매게변수가 없는 함수랍니다.\n"
     ]
    }
   ],
   "source": [
    "def a_function() :\n",
    "    # 매게변수는 없어도 된다.\n",
    "    print(\"저는 매게변수가 없는 함수랍니다.\")\n",
    "    \n",
    "a_function()"
   ]
  },
  {
   "cell_type": "code",
   "execution_count": 4,
   "metadata": {},
   "outputs": [
    {
     "name": "stdout",
     "output_type": "stream",
     "text": [
      "입력받은 값들은 첫번 째, Para 두번 째, Para 세번 째, Para 입니다!\n"
     ]
    }
   ],
   "source": [
    "def a_function(para1, para2, para3) :\n",
    "    # 매게변수는 한 개 혹은 여러개 이다.\n",
    "    # 여러개의 매개 변수는 , 로 구분한다.\n",
    "    print(\"입력받은 값들은\", para1, para2, para3,\"입니다!\")\n",
    "    \n",
    "a_function(\"첫번 째, Para\", \"두번 째, Para\", \"세번 째, Para\")"
   ]
  },
  {
   "cell_type": "code",
   "execution_count": 5,
   "metadata": {},
   "outputs": [
    {
     "name": "stdout",
     "output_type": "stream",
     "text": [
      "대한민국 대한민국 대한민국 \n"
     ]
    }
   ],
   "source": [
    "def a_function(para) :\n",
    "    '''\n",
    "    return 문은 함수 내에서 반드시 한번만 쓸 수 있다.\n",
    "    return 받은 값을 변수에 저장해두고 재활용할 수 있다.\n",
    "    \n",
    "    '''\n",
    "    return (para+\" \") * 3\n",
    "    \n",
    "return_value = a_function(\"대한민국\")\n",
    "\n",
    "print(return_value)"
   ]
  },
  {
   "cell_type": "code",
   "execution_count": 6,
   "metadata": {},
   "outputs": [
    {
     "name": "stdout",
     "output_type": "stream",
     "text": [
      "999\n"
     ]
    }
   ],
   "source": [
    "def a_function() :\n",
    "    ''' return 문은 함수 내의 모든 반복, 조건문을 종료시킨다. '''\n",
    "    for i in range(999999999) :\n",
    "        if i == 999 : \n",
    "            return i\n",
    "        \n",
    "stopped_number = a_function()    \n",
    "        \n",
    "print(stopped_number)        "
   ]
  },
  {
   "cell_type": "markdown",
   "metadata": {},
   "source": [
    "# 06 파이썬의 함수 설명하기"
   ]
  },
  {
   "cell_type": "code",
   "execution_count": 7,
   "metadata": {},
   "outputs": [
    {
     "data": {
      "text/plain": [
       "' return 문은 함수 내의 모든 반복, 조건문을 종료시킨다. '"
      ]
     },
     "execution_count": 7,
     "metadata": {},
     "output_type": "execute_result"
    }
   ],
   "source": [
    "a_function.__doc__"
   ]
  },
  {
   "cell_type": "markdown",
   "metadata": {},
   "source": [
    "# 01, 02, 03, 04, 05, 06 클래스와 객체 사용하기 클래스와 객체 그리고 상속\n",
    "- 신은 세상을 창조한 원리, Object Orient Programming"
   ]
  },
  {
   "cell_type": "markdown",
   "metadata": {},
   "source": [
    "<img src=\"img/tree_for_class.jpg\">"
   ]
  },
  {
   "cell_type": "code",
   "execution_count": 8,
   "metadata": {},
   "outputs": [],
   "source": [
    "class Life () :\n",
    "    def __init__(self, name) :\n",
    "        self.name = name\n",
    "        \n",
    "    def breath(self) :\n",
    "        '''생명체들은 호흡을 한다.'''\n",
    "        print(\"I'm alive.\")\n",
    "        \n",
    "class Animal(Life) :\n",
    "    def animate(self) :\n",
    "        '''동물은 스스로 움직일 수 있다.'''\n",
    "        print(\"I'm moving.\")\n",
    "    \n",
    "class Vertebrate (Animal) :\n",
    "    '''척추동물은 몸 안에 뼈를 가지고 있다.'''\n",
    "    inner_bone = True\n",
    "    \n",
    "class Mammal (Vertebrate) :\n",
    "    '''포유류는 비뇨기를 가지고 있다.'''\n",
    "    urinary = True\n",
    "        \n",
    "class Predator (Mammal) :\n",
    "    '''식육목은 열육치를 가지고 있다.'''\n",
    "    carnassials = True\n",
    "        \n",
    "class Cat (Predator) :\n",
    "    '''고양이는 자기 발바닥을 혀로 햝을 수 있다.'''\n",
    "    def role_paws(self) :\n",
    "        print(\"I'm taking a bath.\")"
   ]
  },
  {
   "cell_type": "markdown",
   "metadata": {},
   "source": [
    "- 옆집에서 고양이 두 마리를 키우고 있다. 하나는 Tom, 다른 하나는 Jerry 이다."
   ]
  },
  {
   "cell_type": "code",
   "execution_count": 9,
   "metadata": {},
   "outputs": [
    {
     "name": "stdout",
     "output_type": "stream",
     "text": [
      "톰과 제리\n"
     ]
    }
   ],
   "source": [
    "tom = Cat(\"톰\")\n",
    "jerry = Cat(\"제리\")\n",
    "\n",
    "print(\"{0}과 {1}\".format(tom.name, jerry.name))"
   ]
  },
  {
   "cell_type": "code",
   "execution_count": 10,
   "metadata": {},
   "outputs": [
    {
     "name": "stdout",
     "output_type": "stream",
     "text": [
      "제리 :\n",
      "고양이는 자기 발바닥을 혀로 햝을 수 있다.\n",
      "I'm alive.\n",
      "I'm moving.\n",
      "inner_bone True\n",
      "urinary True\n",
      "carnassials True\n",
      "I'm taking a bath.\n"
     ]
    }
   ],
   "source": [
    "# tom. 하고 Tab을 눌러보자\n",
    "\n",
    "#my_object = tom\n",
    "my_object = jerry\n",
    "\n",
    "print(my_object.name, \":\")\n",
    "print(my_object.__doc__)\n",
    "my_object.breath()\n",
    "my_object.animate()\n",
    "print(\"inner_bone\", my_object.inner_bone)\n",
    "print(\"urinary\", my_object.urinary)\n",
    "print(\"carnassials\", my_object.carnassials)\n",
    "my_object.role_paws()"
   ]
  },
  {
   "cell_type": "markdown",
   "metadata": {},
   "source": [
    "- 그렇다면 인간은 어떻게 창조되었는가?\n",
    "\n",
    "<img src=\"img/tree_for_class.jpg\">"
   ]
  },
  {
   "cell_type": "code",
   "execution_count": 11,
   "metadata": {},
   "outputs": [],
   "source": [
    "class Ape(Mammal) :\n",
    "    '''영장류는 엄지와 검지를 서로 만나게 할 수 있고, 주먹도 쥘 수 있다.'''\n",
    "    def clench(self) :\n",
    "        print(\"Take my Punch!\")\n",
    "        \n",
    "class Human (Ape) :\n",
    "    '''인간은 영장류 중 유일하게 직립보행을 할 수 있다.'''\n",
    "    def erectus (self) :\n",
    "        print(\"I'm walking !\")        "
   ]
  },
  {
   "cell_type": "markdown",
   "metadata": {},
   "source": [
    "- '진관'이라는 사람이 있다."
   ]
  },
  {
   "cell_type": "code",
   "execution_count": 12,
   "metadata": {},
   "outputs": [
    {
     "name": "stdout",
     "output_type": "stream",
     "text": [
      "진관 :\n",
      "인간은 영장류 중 유일하게 직립보행을 할 수 있다.\n",
      "I'm alive.\n",
      "I'm moving.\n",
      "inner_bone True\n",
      "urinary True\n",
      "Take my Punch!\n",
      "True\n"
     ]
    }
   ],
   "source": [
    "chinkwan = Human(\"진관\")\n",
    "\n",
    "# chinkwan. 하고 Tab을 눌러보자\n",
    "\n",
    "my_object = chinkwan\n",
    "\n",
    "print(my_object.name, \":\")\n",
    "print(my_object.__doc__)\n",
    "my_object.breath()\n",
    "my_object.animate()\n",
    "print(\"inner_bone\", my_object.inner_bone)\n",
    "print(\"urinary\", my_object.urinary)\n",
    "# print(\"carnassials\", my_object.carnassials)\n",
    "# my_object.role_paws()\n",
    "chinkwan.clench()\n",
    "print(isinstance(chinkwan, Ape)) # 사람은 영장류다.chinkwan.erectus()"
   ]
  },
  {
   "cell_type": "code",
   "execution_count": 13,
   "metadata": {},
   "outputs": [
    {
     "name": "stdout",
     "output_type": "stream",
     "text": [
      "진관은 사람 ? : True\n",
      "진관은 영장목 ? : True\n",
      "진관은 포유류 ? : True\n",
      "진관은 식육목 ? : False\n"
     ]
    }
   ],
   "source": [
    "print(\"%s은 사람 ? : %s\" %(chinkwan.name, isinstance(chinkwan, Human)))\n",
    "print(\"%s은 영장목 ? : %s\" %(chinkwan.name, isinstance(chinkwan, Ape)))\n",
    "print(\"%s은 포유류 ? : %s\" %(chinkwan.name, isinstance(chinkwan, Mammal)))\n",
    "print(\"%s은 식육목 ? : %s\" %(chinkwan.name, isinstance(chinkwan, Predator)))"
   ]
  },
  {
   "cell_type": "markdown",
   "metadata": {},
   "source": [
    "- 위의 Code를 이용해서, life.py 로 만들어 보자."
   ]
  },
  {
   "cell_type": "code",
   "execution_count": 15,
   "metadata": {},
   "outputs": [],
   "source": [
    "class Life () :\n",
    "    def __init__(self, name) :\n",
    "        self.name = name\n",
    "        \n",
    "    def breath(self) :\n",
    "        '''생명체들은 호흡을 한다.'''\n",
    "        print(\"I'm alive.\")\n",
    "        \n",
    "class Animal(Life) :\n",
    "    def animate(self) :\n",
    "        '''동물은 스스로 움직일 수 있다.'''\n",
    "        print(\"I'm moving.\")\n",
    "    \n",
    "class Vertebrate (Animal) :\n",
    "    '''척추동물은 몸 안에 뼈를 가지고 있다.'''\n",
    "    inner_bone = True\n",
    "    \n",
    "class Mammal (Vertebrate) :\n",
    "    '''포유류는 비뇨기를 가지고 있다.'''\n",
    "    urinary = True\n",
    "        \n",
    "class Predator (Mammal) :\n",
    "    '''식육목은 열육치를 가지고 있다.'''\n",
    "    carnassials = True\n",
    "        \n",
    "class Cat (Predator) :\n",
    "    '''고양이는 자기 발바닥을 혀로 햝을 수 있다.'''\n",
    "    def role_paws(self) :\n",
    "        print(\"I'm taking a bath.\")\n",
    "        \n",
    "class Ape(Mammal) :\n",
    "    '''영장류는 엄지와 검지를 서로 만나게 할 수 있고, 주먹도 쥘 수 있다.'''\n",
    "    def clench(self) :\n",
    "        print(\"Take my Punch!\")\n",
    "        \n",
    "class Human (Ape) :\n",
    "    '''인간은 영장류 중 유일하게 직립보행을 할 수 있다.'''\n",
    "    def erectus (self) :\n",
    "        print(\"I'm walking !\")  "
   ]
  },
  {
   "cell_type": "code",
   "execution_count": 20,
   "metadata": {},
   "outputs": [
    {
     "data": {
      "text/plain": [
       "'chinkwan.cho'"
      ]
     },
     "execution_count": 20,
     "metadata": {},
     "output_type": "execute_result"
    }
   ],
   "source": [
    "import lib.byonda\n",
    "chinkwan = Human('chinkwan.cho')\n",
    "\n",
    "chinkwan.name"
   ]
  },
  {
   "cell_type": "code",
   "execution_count": null,
   "metadata": {},
   "outputs": [],
   "source": []
  }
 ],
 "metadata": {
  "kernelspec": {
   "display_name": "Python 3",
   "language": "python",
   "name": "python3"
  },
  "language_info": {
   "codemirror_mode": {
    "name": "ipython",
    "version": 3
   },
   "file_extension": ".py",
   "mimetype": "text/x-python",
   "name": "python",
   "nbconvert_exporter": "python",
   "pygments_lexer": "ipython3",
   "version": "3.7.5"
  }
 },
 "nbformat": 4,
 "nbformat_minor": 2
}
